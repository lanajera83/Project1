{
 "cells": [
  {
   "cell_type": "code",
   "execution_count": 75,
   "metadata": {},
   "outputs": [
    {
     "data": {
      "text/html": [
       "<div>\n",
       "<style scoped>\n",
       "    .dataframe tbody tr th:only-of-type {\n",
       "        vertical-align: middle;\n",
       "    }\n",
       "\n",
       "    .dataframe tbody tr th {\n",
       "        vertical-align: top;\n",
       "    }\n",
       "\n",
       "    .dataframe thead th {\n",
       "        text-align: right;\n",
       "    }\n",
       "</style>\n",
       "<table border=\"1\" class=\"dataframe\">\n",
       "  <thead>\n",
       "    <tr style=\"text-align: right;\">\n",
       "      <th></th>\n",
       "      <th>id</th>\n",
       "      <th>name</th>\n",
       "      <th>host_id</th>\n",
       "      <th>host_name</th>\n",
       "      <th>neighbourhood_cleansed</th>\n",
       "      <th>neighbourhood</th>\n",
       "      <th>zipcode</th>\n",
       "      <th>latitude</th>\n",
       "      <th>longitude</th>\n",
       "      <th>room_type</th>\n",
       "      <th>price</th>\n",
       "      <th>minimum_nights</th>\n",
       "      <th>number_of_reviews</th>\n",
       "      <th>last_review</th>\n",
       "      <th>reviews_per_month</th>\n",
       "      <th>calculated_host_listings_count</th>\n",
       "      <th>availability_365</th>\n",
       "      <th>bed_type</th>\n",
       "      <th>amenities</th>\n",
       "      <th>review_scores_rating</th>\n",
       "    </tr>\n",
       "  </thead>\n",
       "  <tbody>\n",
       "    <tr>\n",
       "      <th>0</th>\n",
       "      <td>22787</td>\n",
       "      <td>Sunny suite w/ queen size bed, inside boutique...</td>\n",
       "      <td>87973</td>\n",
       "      <td>Diego</td>\n",
       "      <td>Cuauhtemoc</td>\n",
       "      <td>San Rafael</td>\n",
       "      <td>6470</td>\n",
       "      <td>19.44076</td>\n",
       "      <td>-99.16324</td>\n",
       "      <td>Private room</td>\n",
       "      <td>1957</td>\n",
       "      <td>1</td>\n",
       "      <td>10</td>\n",
       "      <td>11/05/2018</td>\n",
       "      <td>0.58</td>\n",
       "      <td>8</td>\n",
       "      <td>0</td>\n",
       "      <td>Real Bed</td>\n",
       "      <td>{Wifi,\"Paid parking off premises\",Breakfast,Wa...</td>\n",
       "      <td>87.0</td>\n",
       "    </tr>\n",
       "    <tr>\n",
       "      <th>1</th>\n",
       "      <td>44616</td>\n",
       "      <td>CONDESA HAUS BOUTIQUE B&amp;B</td>\n",
       "      <td>196253</td>\n",
       "      <td>Condesa Haus Bed &amp; BReakfast  CDMX</td>\n",
       "      <td>Cuauhtemoc</td>\n",
       "      <td>Condesa</td>\n",
       "      <td>6140</td>\n",
       "      <td>19.41006</td>\n",
       "      <td>-99.17645</td>\n",
       "      <td>Private room</td>\n",
       "      <td>1906</td>\n",
       "      <td>1</td>\n",
       "      <td>39</td>\n",
       "      <td>02/05/2019</td>\n",
       "      <td>0.43</td>\n",
       "      <td>10</td>\n",
       "      <td>330</td>\n",
       "      <td>Real Bed</td>\n",
       "      <td>{TV,\"Cable TV\",Internet,Wifi,\"Free parking on ...</td>\n",
       "      <td>89.0</td>\n",
       "    </tr>\n",
       "  </tbody>\n",
       "</table>\n",
       "</div>"
      ],
      "text/plain": [
       "      id                                               name  host_id  \\\n",
       "0  22787  Sunny suite w/ queen size bed, inside boutique...    87973   \n",
       "1  44616                          CONDESA HAUS BOUTIQUE B&B   196253   \n",
       "\n",
       "                            host_name neighbourhood_cleansed neighbourhood  \\\n",
       "0                               Diego             Cuauhtemoc    San Rafael   \n",
       "1  Condesa Haus Bed & BReakfast  CDMX             Cuauhtemoc       Condesa   \n",
       "\n",
       "  zipcode  latitude  longitude     room_type  price  minimum_nights  \\\n",
       "0    6470  19.44076  -99.16324  Private room   1957               1   \n",
       "1    6140  19.41006  -99.17645  Private room   1906               1   \n",
       "\n",
       "   number_of_reviews last_review  reviews_per_month  \\\n",
       "0                 10  11/05/2018               0.58   \n",
       "1                 39  02/05/2019               0.43   \n",
       "\n",
       "   calculated_host_listings_count  availability_365  bed_type  \\\n",
       "0                               8                 0  Real Bed   \n",
       "1                              10               330  Real Bed   \n",
       "\n",
       "                                           amenities  review_scores_rating  \n",
       "0  {Wifi,\"Paid parking off premises\",Breakfast,Wa...                  87.0  \n",
       "1  {TV,\"Cable TV\",Internet,Wifi,\"Free parking on ...                  89.0  "
      ]
     },
     "execution_count": 75,
     "metadata": {},
     "output_type": "execute_result"
    }
   ],
   "source": [
    "%matplotlib inline\n",
    "# Dependencies and Setup\n",
    "import matplotlib.pyplot as plt\n",
    "import pandas as pd\n",
    "import numpy as np\n",
    "import random\n",
    "\n",
    "\n",
    "# read csv\n",
    "file = \"data_base_clean.csv\"\n",
    "df = pd.read_csv(file, encoding=\"ISO-8859-1\")\n",
    "df.head(2)"
   ]
  },
  {
   "cell_type": "code",
   "execution_count": 76,
   "metadata": {},
   "outputs": [],
   "source": [
    "#df.count()"
   ]
  },
  {
   "cell_type": "code",
   "execution_count": 77,
   "metadata": {},
   "outputs": [
    {
     "data": {
      "text/plain": [
       "Index(['id', 'name', 'host_id', 'host_name', 'neighbourhood_cleansed',\n",
       "       'neighbourhood', 'zipcode', 'latitude', 'longitude', 'room_type',\n",
       "       'price', 'minimum_nights', 'number_of_reviews', 'last_review',\n",
       "       'reviews_per_month', 'calculated_host_listings_count',\n",
       "       'availability_365', 'bed_type', 'amenities', 'review_scores_rating'],\n",
       "      dtype='object')"
      ]
     },
     "execution_count": 77,
     "metadata": {},
     "output_type": "execute_result"
    }
   ],
   "source": [
    "df.columns"
   ]
  },
  {
   "cell_type": "code",
   "execution_count": 78,
   "metadata": {},
   "outputs": [
    {
     "data": {
      "text/html": [
       "<div>\n",
       "<style scoped>\n",
       "    .dataframe tbody tr th:only-of-type {\n",
       "        vertical-align: middle;\n",
       "    }\n",
       "\n",
       "    .dataframe tbody tr th {\n",
       "        vertical-align: top;\n",
       "    }\n",
       "\n",
       "    .dataframe thead th {\n",
       "        text-align: right;\n",
       "    }\n",
       "</style>\n",
       "<table border=\"1\" class=\"dataframe\">\n",
       "  <thead>\n",
       "    <tr style=\"text-align: right;\">\n",
       "      <th></th>\n",
       "      <th>id</th>\n",
       "      <th>neighbourhood_cleansed</th>\n",
       "      <th>neighbourhood</th>\n",
       "      <th>zipcode</th>\n",
       "      <th>latitude</th>\n",
       "      <th>longitude</th>\n",
       "      <th>price</th>\n",
       "    </tr>\n",
       "  </thead>\n",
       "  <tbody>\n",
       "    <tr>\n",
       "      <th>0</th>\n",
       "      <td>22787</td>\n",
       "      <td>Cuauhtemoc</td>\n",
       "      <td>San Rafael</td>\n",
       "      <td>6470</td>\n",
       "      <td>19.44076</td>\n",
       "      <td>-99.16324</td>\n",
       "      <td>1957</td>\n",
       "    </tr>\n",
       "    <tr>\n",
       "      <th>1</th>\n",
       "      <td>44616</td>\n",
       "      <td>Cuauhtemoc</td>\n",
       "      <td>Condesa</td>\n",
       "      <td>6140</td>\n",
       "      <td>19.41006</td>\n",
       "      <td>-99.17645</td>\n",
       "      <td>1906</td>\n",
       "    </tr>\n",
       "    <tr>\n",
       "      <th>2</th>\n",
       "      <td>58955</td>\n",
       "      <td>Cuauhtemoc</td>\n",
       "      <td>Roma Norte</td>\n",
       "      <td>6700</td>\n",
       "      <td>19.42292</td>\n",
       "      <td>-99.15775</td>\n",
       "      <td>1620</td>\n",
       "    </tr>\n",
       "    <tr>\n",
       "      <th>3</th>\n",
       "      <td>61792</td>\n",
       "      <td>Cuauhtemoc</td>\n",
       "      <td>Condesa</td>\n",
       "      <td>6140</td>\n",
       "      <td>19.41259</td>\n",
       "      <td>-99.17959</td>\n",
       "      <td>953</td>\n",
       "    </tr>\n",
       "    <tr>\n",
       "      <th>4</th>\n",
       "      <td>67703</td>\n",
       "      <td>Cuauhtemoc</td>\n",
       "      <td>Hipodromo</td>\n",
       "      <td>6100</td>\n",
       "      <td>19.41375</td>\n",
       "      <td>-99.17028</td>\n",
       "      <td>1810</td>\n",
       "    </tr>\n",
       "  </tbody>\n",
       "</table>\n",
       "</div>"
      ],
      "text/plain": [
       "      id neighbourhood_cleansed neighbourhood zipcode  latitude  longitude  \\\n",
       "0  22787             Cuauhtemoc    San Rafael    6470  19.44076  -99.16324   \n",
       "1  44616             Cuauhtemoc       Condesa    6140  19.41006  -99.17645   \n",
       "2  58955             Cuauhtemoc    Roma Norte    6700  19.42292  -99.15775   \n",
       "3  61792             Cuauhtemoc       Condesa    6140  19.41259  -99.17959   \n",
       "4  67703             Cuauhtemoc     Hipodromo    6100  19.41375  -99.17028   \n",
       "\n",
       "   price  \n",
       "0   1957  \n",
       "1   1906  \n",
       "2   1620  \n",
       "3    953  \n",
       "4   1810  "
      ]
     },
     "execution_count": 78,
     "metadata": {},
     "output_type": "execute_result"
    }
   ],
   "source": [
    "# Remove properties with no price per night\n",
    "airbnb_positive_df = df.loc[df[\"price\"]>0,[\"id\",\"neighbourhood_cleansed\",\"neighbourhood\",\n",
    "                                        \"zipcode\",\"latitude\",\"longitude\",\"price\"]]\n",
    "airbnb_positive_df.head()"
   ]
  },
  {
   "cell_type": "code",
   "execution_count": 79,
   "metadata": {},
   "outputs": [
    {
     "data": {
      "text/html": [
       "<div>\n",
       "<style scoped>\n",
       "    .dataframe tbody tr th:only-of-type {\n",
       "        vertical-align: middle;\n",
       "    }\n",
       "\n",
       "    .dataframe tbody tr th {\n",
       "        vertical-align: top;\n",
       "    }\n",
       "\n",
       "    .dataframe thead th {\n",
       "        text-align: right;\n",
       "    }\n",
       "</style>\n",
       "<table border=\"1\" class=\"dataframe\">\n",
       "  <thead>\n",
       "    <tr style=\"text-align: right;\">\n",
       "      <th></th>\n",
       "      <th>id</th>\n",
       "      <th>neighbourhood_cleansed</th>\n",
       "      <th>neighbourhood</th>\n",
       "      <th>zipcode</th>\n",
       "      <th>latitude</th>\n",
       "      <th>longitude</th>\n",
       "      <th>price</th>\n",
       "    </tr>\n",
       "  </thead>\n",
       "  <tbody>\n",
       "    <tr>\n",
       "      <th>0</th>\n",
       "      <td>22787</td>\n",
       "      <td>Cuauhtemoc</td>\n",
       "      <td>San Rafael</td>\n",
       "      <td>6470</td>\n",
       "      <td>19.44076</td>\n",
       "      <td>-99.16324</td>\n",
       "      <td>1957</td>\n",
       "    </tr>\n",
       "    <tr>\n",
       "      <th>1</th>\n",
       "      <td>44616</td>\n",
       "      <td>Cuauhtemoc</td>\n",
       "      <td>Condesa</td>\n",
       "      <td>6140</td>\n",
       "      <td>19.41006</td>\n",
       "      <td>-99.17645</td>\n",
       "      <td>1906</td>\n",
       "    </tr>\n",
       "    <tr>\n",
       "      <th>2</th>\n",
       "      <td>58955</td>\n",
       "      <td>Cuauhtemoc</td>\n",
       "      <td>Roma Norte</td>\n",
       "      <td>6700</td>\n",
       "      <td>19.42292</td>\n",
       "      <td>-99.15775</td>\n",
       "      <td>1620</td>\n",
       "    </tr>\n",
       "    <tr>\n",
       "      <th>3</th>\n",
       "      <td>61792</td>\n",
       "      <td>Cuauhtemoc</td>\n",
       "      <td>Condesa</td>\n",
       "      <td>6140</td>\n",
       "      <td>19.41259</td>\n",
       "      <td>-99.17959</td>\n",
       "      <td>953</td>\n",
       "    </tr>\n",
       "    <tr>\n",
       "      <th>4</th>\n",
       "      <td>67703</td>\n",
       "      <td>Cuauhtemoc</td>\n",
       "      <td>Hipodromo</td>\n",
       "      <td>6100</td>\n",
       "      <td>19.41375</td>\n",
       "      <td>-99.17028</td>\n",
       "      <td>1810</td>\n",
       "    </tr>\n",
       "  </tbody>\n",
       "</table>\n",
       "</div>"
      ],
      "text/plain": [
       "      id neighbourhood_cleansed neighbourhood zipcode  latitude  longitude  \\\n",
       "0  22787             Cuauhtemoc    San Rafael    6470  19.44076  -99.16324   \n",
       "1  44616             Cuauhtemoc       Condesa    6140  19.41006  -99.17645   \n",
       "2  58955             Cuauhtemoc    Roma Norte    6700  19.42292  -99.15775   \n",
       "3  61792             Cuauhtemoc       Condesa    6140  19.41259  -99.17959   \n",
       "4  67703             Cuauhtemoc     Hipodromo    6100  19.41375  -99.17028   \n",
       "\n",
       "   price  \n",
       "0   1957  \n",
       "1   1906  \n",
       "2   1620  \n",
       "3    953  \n",
       "4   1810  "
      ]
     },
     "execution_count": 79,
     "metadata": {},
     "output_type": "execute_result"
    }
   ],
   "source": [
    "# Remove properties with price per night higher than 37,000\n",
    "airbnb_positive1_df = airbnb_positive_df.loc[airbnb_positive_df[\"price\"]<37000,[\"id\",\"neighbourhood_cleansed\",\n",
    "                                        \"neighbourhood\",\"zipcode\",\"latitude\",\"longitude\",\"price\"]]\n",
    "airbnb_positive1_df.head()"
   ]
  },
  {
   "cell_type": "code",
   "execution_count": 80,
   "metadata": {},
   "outputs": [],
   "source": [
    "#airbnb_positive1_df.count()"
   ]
  },
  {
   "cell_type": "code",
   "execution_count": 81,
   "metadata": {},
   "outputs": [],
   "source": [
    "#Check data types\n",
    "#airbnb_positive1_df.dtypes"
   ]
  },
  {
   "cell_type": "code",
   "execution_count": 82,
   "metadata": {},
   "outputs": [],
   "source": [
    "#Review prices\n",
    "#price = df[\"price\"].unique()\n",
    "#len(price)"
   ]
  },
  {
   "cell_type": "code",
   "execution_count": 83,
   "metadata": {},
   "outputs": [
    {
     "data": {
      "text/html": [
       "<div>\n",
       "<style scoped>\n",
       "    .dataframe tbody tr th:only-of-type {\n",
       "        vertical-align: middle;\n",
       "    }\n",
       "\n",
       "    .dataframe tbody tr th {\n",
       "        vertical-align: top;\n",
       "    }\n",
       "\n",
       "    .dataframe thead th {\n",
       "        text-align: right;\n",
       "    }\n",
       "</style>\n",
       "<table border=\"1\" class=\"dataframe\">\n",
       "  <thead>\n",
       "    <tr style=\"text-align: right;\">\n",
       "      <th></th>\n",
       "      <th></th>\n",
       "      <th>Maximum Price</th>\n",
       "      <th>Minimum Price</th>\n",
       "      <th>Average Price</th>\n",
       "    </tr>\n",
       "    <tr>\n",
       "      <th>neighbourhood_cleansed</th>\n",
       "      <th>neighbourhood</th>\n",
       "      <th></th>\n",
       "      <th></th>\n",
       "      <th></th>\n",
       "    </tr>\n",
       "  </thead>\n",
       "  <tbody>\n",
       "    <tr>\n",
       "      <th rowspan=\"5\" valign=\"top\">Alvaro Obregon</th>\n",
       "      <th>Campestre/Guadalupe Inn</th>\n",
       "      <td>6251</td>\n",
       "      <td>190</td>\n",
       "      <td>955.611111</td>\n",
       "    </tr>\n",
       "    <tr>\n",
       "      <th>Coyoacan</th>\n",
       "      <td>1334</td>\n",
       "      <td>1334</td>\n",
       "      <td>1334.000000</td>\n",
       "    </tr>\n",
       "    <tr>\n",
       "      <th>Florida/Axotla</th>\n",
       "      <td>2280</td>\n",
       "      <td>248</td>\n",
       "      <td>787.392157</td>\n",
       "    </tr>\n",
       "    <tr>\n",
       "      <th>Insurgentes</th>\n",
       "      <td>1296</td>\n",
       "      <td>686</td>\n",
       "      <td>1010.000000</td>\n",
       "    </tr>\n",
       "    <tr>\n",
       "      <th>Nonoalco</th>\n",
       "      <td>1277</td>\n",
       "      <td>191</td>\n",
       "      <td>653.272727</td>\n",
       "    </tr>\n",
       "  </tbody>\n",
       "</table>\n",
       "</div>"
      ],
      "text/plain": [
       "                                                Maximum Price  Minimum Price  \\\n",
       "neighbourhood_cleansed neighbourhood                                           \n",
       "Alvaro Obregon         Campestre/Guadalupe Inn           6251            190   \n",
       "                       Coyoacan                          1334           1334   \n",
       "                       Florida/Axotla                    2280            248   \n",
       "                       Insurgentes                       1296            686   \n",
       "                       Nonoalco                          1277            191   \n",
       "\n",
       "                                                Average Price  \n",
       "neighbourhood_cleansed neighbourhood                           \n",
       "Alvaro Obregon         Campestre/Guadalupe Inn     955.611111  \n",
       "                       Coyoacan                   1334.000000  \n",
       "                       Florida/Axotla              787.392157  \n",
       "                       Insurgentes                1010.000000  \n",
       "                       Nonoalco                    653.272727  "
      ]
     },
     "execution_count": 83,
     "metadata": {},
     "output_type": "execute_result"
    }
   ],
   "source": [
    "#Group County and Neighbourhood\n",
    "county_neig = airbnb_positive1_df.groupby([\"neighbourhood_cleansed\",\"neighbourhood\"])\n",
    "\n",
    "max_price = county_neig['price'].max()\n",
    "min_price = county_neig['price'].min()\n",
    "mean_price = county_neig['price'].mean()\n",
    "\n",
    "#Create a summary data frame to hold the results\n",
    "county_neig_df = pd.DataFrame({\"Maximum Price\":max_price,\n",
    "                                 \"Minimum Price\":min_price,\n",
    "                                 \"Average Price\":mean_price})\n",
    "county_neig_df.head()"
   ]
  },
  {
   "cell_type": "markdown",
   "metadata": {},
   "source": [
    "# Price summary"
   ]
  },
  {
   "cell_type": "code",
   "execution_count": 84,
   "metadata": {},
   "outputs": [
    {
     "data": {
      "text/html": [
       "<div>\n",
       "<style scoped>\n",
       "    .dataframe tbody tr th:only-of-type {\n",
       "        vertical-align: middle;\n",
       "    }\n",
       "\n",
       "    .dataframe tbody tr th {\n",
       "        vertical-align: top;\n",
       "    }\n",
       "\n",
       "    .dataframe thead th {\n",
       "        text-align: right;\n",
       "    }\n",
       "</style>\n",
       "<table border=\"1\" class=\"dataframe\">\n",
       "  <thead>\n",
       "    <tr style=\"text-align: right;\">\n",
       "      <th></th>\n",
       "      <th>Maximum Price</th>\n",
       "      <th>Minimum Price</th>\n",
       "      <th>Average Price</th>\n",
       "      <th>Number of properties</th>\n",
       "    </tr>\n",
       "    <tr>\n",
       "      <th>neighbourhood_cleansed</th>\n",
       "      <th></th>\n",
       "      <th></th>\n",
       "      <th></th>\n",
       "      <th></th>\n",
       "    </tr>\n",
       "  </thead>\n",
       "  <tbody>\n",
       "    <tr>\n",
       "      <th>Iztacalco</th>\n",
       "      <td>$1,296.00</td>\n",
       "      <td>$210.00</td>\n",
       "      <td>$444.31</td>\n",
       "      <td>32</td>\n",
       "    </tr>\n",
       "    <tr>\n",
       "      <th>Azcapotzalco</th>\n",
       "      <td>$1,748.00</td>\n",
       "      <td>$190.00</td>\n",
       "      <td>$651.89</td>\n",
       "      <td>27</td>\n",
       "    </tr>\n",
       "    <tr>\n",
       "      <th>Gustavo A. Madero</th>\n",
       "      <td>$1,824.00</td>\n",
       "      <td>$209.00</td>\n",
       "      <td>$609.58</td>\n",
       "      <td>12</td>\n",
       "    </tr>\n",
       "    <tr>\n",
       "      <th>Iztapalapa</th>\n",
       "      <td>$2,001.00</td>\n",
       "      <td>$229.00</td>\n",
       "      <td>$700.13</td>\n",
       "      <td>15</td>\n",
       "    </tr>\n",
       "    <tr>\n",
       "      <th>Venustiano Carranza</th>\n",
       "      <td>$4,193.00</td>\n",
       "      <td>$191.00</td>\n",
       "      <td>$634.88</td>\n",
       "      <td>24</td>\n",
       "    </tr>\n",
       "    <tr>\n",
       "      <th>Alvaro Obregon</th>\n",
       "      <td>$6,251.00</td>\n",
       "      <td>$172.00</td>\n",
       "      <td>$870.70</td>\n",
       "      <td>264</td>\n",
       "    </tr>\n",
       "    <tr>\n",
       "      <th>Benito Juarez</th>\n",
       "      <td>$23,974.00</td>\n",
       "      <td>$172.00</td>\n",
       "      <td>$706.93</td>\n",
       "      <td>2009</td>\n",
       "    </tr>\n",
       "    <tr>\n",
       "      <th>Coyoacan</th>\n",
       "      <td>$28,586.00</td>\n",
       "      <td>$172.00</td>\n",
       "      <td>$892.86</td>\n",
       "      <td>748</td>\n",
       "    </tr>\n",
       "    <tr>\n",
       "      <th>Miguel Hidalgo</th>\n",
       "      <td>$34,303.00</td>\n",
       "      <td>$191.00</td>\n",
       "      <td>$1,466.39</td>\n",
       "      <td>1881</td>\n",
       "    </tr>\n",
       "    <tr>\n",
       "      <th>Cuauhtemoc</th>\n",
       "      <td>$36,484.00</td>\n",
       "      <td>$172.00</td>\n",
       "      <td>$1,188.15</td>\n",
       "      <td>5674</td>\n",
       "    </tr>\n",
       "  </tbody>\n",
       "</table>\n",
       "</div>"
      ],
      "text/plain": [
       "                       Maximum Price Minimum Price Average Price  \\\n",
       "neighbourhood_cleansed                                             \n",
       "Iztacalco                  $1,296.00       $210.00       $444.31   \n",
       "Azcapotzalco               $1,748.00       $190.00       $651.89   \n",
       "Gustavo A. Madero          $1,824.00       $209.00       $609.58   \n",
       "Iztapalapa                 $2,001.00       $229.00       $700.13   \n",
       "Venustiano Carranza        $4,193.00       $191.00       $634.88   \n",
       "Alvaro Obregon             $6,251.00       $172.00       $870.70   \n",
       "Benito Juarez             $23,974.00       $172.00       $706.93   \n",
       "Coyoacan                  $28,586.00       $172.00       $892.86   \n",
       "Miguel Hidalgo            $34,303.00       $191.00     $1,466.39   \n",
       "Cuauhtemoc                $36,484.00       $172.00     $1,188.15   \n",
       "\n",
       "                        Number of properties  \n",
       "neighbourhood_cleansed                        \n",
       "Iztacalco                                 32  \n",
       "Azcapotzalco                              27  \n",
       "Gustavo A. Madero                         12  \n",
       "Iztapalapa                                15  \n",
       "Venustiano Carranza                       24  \n",
       "Alvaro Obregon                           264  \n",
       "Benito Juarez                           2009  \n",
       "Coyoacan                                 748  \n",
       "Miguel Hidalgo                          1881  \n",
       "Cuauhtemoc                              5674  "
      ]
     },
     "execution_count": 84,
     "metadata": {},
     "output_type": "execute_result"
    }
   ],
   "source": [
    "#Group by County (descending price)\n",
    "county = airbnb_positive1_df.groupby([\"neighbourhood_cleansed\"])\n",
    "\n",
    "max_price = county['price'].max()\n",
    "min_price = county['price'].min()\n",
    "mean_price = county['price'].mean()\n",
    "county_properties = county['neighbourhood_cleansed'].count()\n",
    "\n",
    "#Create a summary data frame to hold the results\n",
    "county_df = pd.DataFrame({\"Maximum Price\":max_price,\n",
    "                          \"Minimum Price\":min_price,\n",
    "                          \"Average Price\":mean_price,\n",
    "                          \"Number of properties\":county_properties})\n",
    "\n",
    "descending_county_df = county_df.sort_values(\"Maximum Price\", ascending = True)\n",
    "\n",
    "descending_county_df[\"Maximum Price\"] = descending_county_df[\"Maximum Price\"].map(\"${:,.2f}\".format)\n",
    "descending_county_df[\"Minimum Price\"] = descending_county_df[\"Minimum Price\"].map(\"${:,.2f}\".format)\n",
    "descending_county_df[\"Average Price\"] = descending_county_df[\"Average Price\"].map(\"${:,.2f}\".format)\n",
    "descending_county_df"
   ]
  },
  {
   "cell_type": "code",
   "execution_count": 85,
   "metadata": {},
   "outputs": [
    {
     "data": {
      "text/html": [
       "<div>\n",
       "<style scoped>\n",
       "    .dataframe tbody tr th:only-of-type {\n",
       "        vertical-align: middle;\n",
       "    }\n",
       "\n",
       "    .dataframe tbody tr th {\n",
       "        vertical-align: top;\n",
       "    }\n",
       "\n",
       "    .dataframe thead th {\n",
       "        text-align: right;\n",
       "    }\n",
       "</style>\n",
       "<table border=\"1\" class=\"dataframe\">\n",
       "  <thead>\n",
       "    <tr style=\"text-align: right;\">\n",
       "      <th></th>\n",
       "      <th>Maximum Price</th>\n",
       "      <th>Minimum Price</th>\n",
       "      <th>Average Price</th>\n",
       "      <th>Number of properties</th>\n",
       "    </tr>\n",
       "    <tr>\n",
       "      <th>neighbourhood_cleansed</th>\n",
       "      <th></th>\n",
       "      <th></th>\n",
       "      <th></th>\n",
       "      <th></th>\n",
       "    </tr>\n",
       "  </thead>\n",
       "  <tbody>\n",
       "    <tr>\n",
       "      <th>Alvaro Obregon</th>\n",
       "      <td>6251</td>\n",
       "      <td>172</td>\n",
       "      <td>870.700758</td>\n",
       "      <td>264</td>\n",
       "    </tr>\n",
       "    <tr>\n",
       "      <th>Azcapotzalco</th>\n",
       "      <td>1748</td>\n",
       "      <td>190</td>\n",
       "      <td>651.888889</td>\n",
       "      <td>27</td>\n",
       "    </tr>\n",
       "    <tr>\n",
       "      <th>Benito Juarez</th>\n",
       "      <td>23974</td>\n",
       "      <td>172</td>\n",
       "      <td>706.930314</td>\n",
       "      <td>2009</td>\n",
       "    </tr>\n",
       "    <tr>\n",
       "      <th>Coyoacan</th>\n",
       "      <td>28586</td>\n",
       "      <td>172</td>\n",
       "      <td>892.862299</td>\n",
       "      <td>748</td>\n",
       "    </tr>\n",
       "    <tr>\n",
       "      <th>Cuauhtemoc</th>\n",
       "      <td>36484</td>\n",
       "      <td>172</td>\n",
       "      <td>1188.152450</td>\n",
       "      <td>5674</td>\n",
       "    </tr>\n",
       "  </tbody>\n",
       "</table>\n",
       "</div>"
      ],
      "text/plain": [
       "                        Maximum Price  Minimum Price  Average Price  \\\n",
       "neighbourhood_cleansed                                                \n",
       "Alvaro Obregon                   6251            172     870.700758   \n",
       "Azcapotzalco                     1748            190     651.888889   \n",
       "Benito Juarez                   23974            172     706.930314   \n",
       "Coyoacan                        28586            172     892.862299   \n",
       "Cuauhtemoc                      36484            172    1188.152450   \n",
       "\n",
       "                        Number of properties  \n",
       "neighbourhood_cleansed                        \n",
       "Alvaro Obregon                           264  \n",
       "Azcapotzalco                              27  \n",
       "Benito Juarez                           2009  \n",
       "Coyoacan                                 748  \n",
       "Cuauhtemoc                              5674  "
      ]
     },
     "execution_count": 85,
     "metadata": {},
     "output_type": "execute_result"
    }
   ],
   "source": [
    "#Group by County\n",
    "county1 = airbnb_positive1_df.groupby([\"neighbourhood_cleansed\"])\n",
    "\n",
    "max_price = county1['price'].max()\n",
    "min_price = county1['price'].min()\n",
    "mean_price = county1['price'].mean()\n",
    "county_properties = county1['neighbourhood_cleansed'].count()\n",
    "\n",
    "#Create a summary data frame to hold the results\n",
    "county1_df = pd.DataFrame({\"Maximum Price\":max_price,\n",
    "                          \"Minimum Price\":min_price,\n",
    "                          \"Average Price\":mean_price,\n",
    "                          \"Number of properties\":county_properties})\n",
    "\n",
    "county1_df.head()"
   ]
  },
  {
   "cell_type": "code",
   "execution_count": 86,
   "metadata": {},
   "outputs": [
    {
     "data": {
      "text/html": [
       "<div>\n",
       "<style scoped>\n",
       "    .dataframe tbody tr th:only-of-type {\n",
       "        vertical-align: middle;\n",
       "    }\n",
       "\n",
       "    .dataframe tbody tr th {\n",
       "        vertical-align: top;\n",
       "    }\n",
       "\n",
       "    .dataframe thead th {\n",
       "        text-align: right;\n",
       "    }\n",
       "</style>\n",
       "<table border=\"1\" class=\"dataframe\">\n",
       "  <thead>\n",
       "    <tr style=\"text-align: right;\">\n",
       "      <th></th>\n",
       "      <th>Maximum Price</th>\n",
       "      <th>Minimum Price</th>\n",
       "      <th>Average Price</th>\n",
       "      <th>Number of properties</th>\n",
       "      <th>neighbourhood_cleansed</th>\n",
       "    </tr>\n",
       "    <tr>\n",
       "      <th>neighbourhood_cleansed</th>\n",
       "      <th></th>\n",
       "      <th></th>\n",
       "      <th></th>\n",
       "      <th></th>\n",
       "      <th></th>\n",
       "    </tr>\n",
       "  </thead>\n",
       "  <tbody>\n",
       "    <tr>\n",
       "      <th>Alvaro Obregon</th>\n",
       "      <td>6251</td>\n",
       "      <td>172</td>\n",
       "      <td>870.700758</td>\n",
       "      <td>264</td>\n",
       "      <td>Alvaro Obregon</td>\n",
       "    </tr>\n",
       "    <tr>\n",
       "      <th>Azcapotzalco</th>\n",
       "      <td>1748</td>\n",
       "      <td>190</td>\n",
       "      <td>651.888889</td>\n",
       "      <td>27</td>\n",
       "      <td>Azcapotzalco</td>\n",
       "    </tr>\n",
       "    <tr>\n",
       "      <th>Benito Juarez</th>\n",
       "      <td>23974</td>\n",
       "      <td>172</td>\n",
       "      <td>706.930314</td>\n",
       "      <td>2009</td>\n",
       "      <td>Benito Juarez</td>\n",
       "    </tr>\n",
       "    <tr>\n",
       "      <th>Coyoacan</th>\n",
       "      <td>28586</td>\n",
       "      <td>172</td>\n",
       "      <td>892.862299</td>\n",
       "      <td>748</td>\n",
       "      <td>Coyoacan</td>\n",
       "    </tr>\n",
       "    <tr>\n",
       "      <th>Cuauhtemoc</th>\n",
       "      <td>36484</td>\n",
       "      <td>172</td>\n",
       "      <td>1188.152450</td>\n",
       "      <td>5674</td>\n",
       "      <td>Cuauhtemoc</td>\n",
       "    </tr>\n",
       "  </tbody>\n",
       "</table>\n",
       "</div>"
      ],
      "text/plain": [
       "                        Maximum Price  Minimum Price  Average Price  \\\n",
       "neighbourhood_cleansed                                                \n",
       "Alvaro Obregon                   6251            172     870.700758   \n",
       "Azcapotzalco                     1748            190     651.888889   \n",
       "Benito Juarez                   23974            172     706.930314   \n",
       "Coyoacan                        28586            172     892.862299   \n",
       "Cuauhtemoc                      36484            172    1188.152450   \n",
       "\n",
       "                        Number of properties neighbourhood_cleansed  \n",
       "neighbourhood_cleansed                                               \n",
       "Alvaro Obregon                           264         Alvaro Obregon  \n",
       "Azcapotzalco                              27           Azcapotzalco  \n",
       "Benito Juarez                           2009          Benito Juarez  \n",
       "Coyoacan                                 748               Coyoacan  \n",
       "Cuauhtemoc                              5674             Cuauhtemoc  "
      ]
     },
     "execution_count": 86,
     "metadata": {},
     "output_type": "execute_result"
    }
   ],
   "source": [
    "# index to column\n",
    "county1_df['neighbourhood_cleansed'] = county1_df.index\n",
    "county1_df.head()"
   ]
  },
  {
   "cell_type": "code",
   "execution_count": 87,
   "metadata": {},
   "outputs": [],
   "source": [
    "# Counties to list\n",
    "result_county = county1_df[\"neighbourhood_cleansed\"].tolist()\n",
    "#result_county"
   ]
  },
  {
   "cell_type": "code",
   "execution_count": 88,
   "metadata": {},
   "outputs": [],
   "source": [
    "# Average price to list\n",
    "avg_price = county1_df[\"Average Price\"].tolist()\n",
    "#avg_price"
   ]
  },
  {
   "cell_type": "code",
   "execution_count": 89,
   "metadata": {},
   "outputs": [],
   "source": [
    "# maximum price to list\n",
    "max_price = county1_df[\"Maximum Price\"].tolist()\n",
    "#max_price"
   ]
  },
  {
   "cell_type": "code",
   "execution_count": 90,
   "metadata": {},
   "outputs": [],
   "source": [
    "# minimum price to list\n",
    "min_price = county1_df[\"Minimum Price\"].tolist()\n",
    "#min_price"
   ]
  },
  {
   "cell_type": "markdown",
   "metadata": {},
   "source": [
    "## Bar chart - Average Price"
   ]
  },
  {
   "cell_type": "code",
   "execution_count": 91,
   "metadata": {},
   "outputs": [],
   "source": [
    "final_county = result_county\n",
    "x_axis = np.arange(len(final_county))"
   ]
  },
  {
   "cell_type": "code",
   "execution_count": 92,
   "metadata": {},
   "outputs": [
    {
     "data": {
      "image/png": "[encoded data removed]",
      "text/plain": [
       "<Figure size 432x288 with 1 Axes>"
      ]
     },
     "metadata": {
      "needs_background": "light"
     },
     "output_type": "display_data"
    }
   ],
   "source": [
    "plt.bar(x_axis, avg_price, color='g', alpha=0.5, align=\"center\")\n",
    "tick_locations = [value for value in x_axis]\n",
    "plt.xticks(tick_locations, result_county, rotation='vertical')\n",
    "plt.title(\"County vs Average Price\")\n",
    "plt.xlabel(\"County\")\n",
    "plt.ylabel(\"Average Price ($)\")\n",
    "plt.show\n",
    "plt.savefig(\"bar_avgprice.png\")"
   ]
  },
  {
   "cell_type": "markdown",
   "metadata": {},
   "source": [
    "# Bar chart - Max Price"
   ]
  },
  {
   "cell_type": "code",
   "execution_count": 93,
   "metadata": {},
   "outputs": [
    {
     "data": {
      "image/png": "[encoded data removed]",
      "text/plain": [
       "<Figure size 432x288 with 1 Axes>"
      ]
     },
     "metadata": {
      "needs_background": "light"
     },
     "output_type": "display_data"
    }
   ],
   "source": [
    "plt.bar(x_axis, max_price, color='r', alpha=0.5, align=\"center\")\n",
    "tick_locations = [value for value in x_axis]\n",
    "plt.xticks(tick_locations, result_county, rotation='vertical')\n",
    "plt.title(\"County vs Maximum Price\")\n",
    "plt.xlabel(\"County\")\n",
    "plt.ylabel(\"Maximum Price ($)\")\n",
    "plt.show\n",
    "plt.savefig(\"bar_maxprice.png\")"
   ]
  },
  {
   "cell_type": "markdown",
   "metadata": {},
   "source": [
    "# Bar chart - Min Price"
   ]
  },
  {
   "cell_type": "code",
   "execution_count": 94,
   "metadata": {},
   "outputs": [
    {
     "data": {
      "image/png": "[encoded data removed]",
      "text/plain": [
       "<Figure size 432x288 with 1 Axes>"
      ]
     },
     "metadata": {
      "needs_background": "light"
     },
     "output_type": "display_data"
    }
   ],
   "source": [
    "plt.bar(x_axis, min_price, color='b', alpha=0.5, align=\"center\")\n",
    "tick_locations = [value for value in x_axis]\n",
    "plt.xticks(tick_locations, result_county, rotation='vertical')\n",
    "plt.title(\"County vs Minimum Price\")\n",
    "plt.xlabel(\"County\")\n",
    "plt.ylabel(\"Minimum Price ($)\")\n",
    "plt.show\n",
    "plt.savefig(\"bar_minprice.png\")"
   ]
  },
  {
   "cell_type": "markdown",
   "metadata": {},
   "source": [
    "# Pie chart"
   ]
  },
  {
   "cell_type": "code",
   "execution_count": 95,
   "metadata": {},
   "outputs": [],
   "source": [
    "county = result_county\n",
    "average = avg_price\n",
    "colors = [\"beige\", \"green\", \"lightblue\", \"orange\", \"gray\",\n",
    "          \"purple\", \"pink\", \"yellowgreen\", \"lightskyblue\", \"lightcoral\"]\n",
    "explode = (0.05, 0.05, 0.05, 0.05, 0.05, 0.05, 0.05, 0.05, 0.15, 0.05)"
   ]
  },
  {
   "cell_type": "code",
   "execution_count": 96,
   "metadata": {},
   "outputs": [
    {
     "data": {
      "image/png": "[encoded data removed]",
      "text/plain": [
       "<Figure size 432x288 with 1 Axes>"
      ]
     },
     "metadata": {},
     "output_type": "display_data"
    }
   ],
   "source": [
    "plt.pie(average, explode=explode, labels=county, colors=colors,\n",
    "       autopct=\"%1.1f%%\", shadow=True, startangle=140)\n",
    "plt.suptitle(\"Average Price\", fontsize=14, fontweight='bold')\n",
    "plt.axis(\"equal\")\n",
    "plt.savefig(\"pie_avgprice.png\")"
   ]
  },
  {
   "cell_type": "markdown",
   "metadata": {},
   "source": [
    "# Scatter plot - Max Price"
   ]
  },
  {
   "cell_type": "code",
   "execution_count": 97,
   "metadata": {},
   "outputs": [
    {
     "data": {
      "image/png": "[encoded data removed]",
      "text/plain": [
       "<Figure size 432x288 with 1 Axes>"
      ]
     },
     "metadata": {
      "needs_background": "light"
     },
     "output_type": "display_data"
    }
   ],
   "source": [
    "plt.scatter(result_county, max_price, marker=\"o\", facecolors=\"gold\", edgecolors=\"black\",\n",
    "            s=x_axis, alpha=1, label=\"Counties\")\n",
    "plt.title(\"County vs Max Price\")\n",
    "plt.xlabel(\"County\")\n",
    "plt.ylabel(\"Maximum Price ($)\")\n",
    "plt.xticks(tick_locations, result_county, rotation='vertical')\n",
    "plt.legend(loc=\"upper right\")\n",
    "plt.grid()\n",
    "plt.show\n",
    "plt.savefig(\"scatter_maxprice.png\")"
   ]
  },
  {
   "cell_type": "markdown",
   "metadata": {},
   "source": [
    "# Scatter plot - all counties / all prices"
   ]
  },
  {
   "cell_type": "code",
   "execution_count": 98,
   "metadata": {},
   "outputs": [
    {
     "data": {
      "text/html": [
       "<div>\n",
       "<style scoped>\n",
       "    .dataframe tbody tr th:only-of-type {\n",
       "        vertical-align: middle;\n",
       "    }\n",
       "\n",
       "    .dataframe tbody tr th {\n",
       "        vertical-align: top;\n",
       "    }\n",
       "\n",
       "    .dataframe thead th {\n",
       "        text-align: right;\n",
       "    }\n",
       "</style>\n",
       "<table border=\"1\" class=\"dataframe\">\n",
       "  <thead>\n",
       "    <tr style=\"text-align: right;\">\n",
       "      <th></th>\n",
       "      <th>id</th>\n",
       "      <th>neighbourhood_cleansed</th>\n",
       "      <th>neighbourhood</th>\n",
       "      <th>zipcode</th>\n",
       "      <th>latitude</th>\n",
       "      <th>longitude</th>\n",
       "      <th>price</th>\n",
       "    </tr>\n",
       "  </thead>\n",
       "  <tbody>\n",
       "    <tr>\n",
       "      <th>0</th>\n",
       "      <td>22787</td>\n",
       "      <td>Cuauhtemoc</td>\n",
       "      <td>San Rafael</td>\n",
       "      <td>6470</td>\n",
       "      <td>19.44076</td>\n",
       "      <td>-99.16324</td>\n",
       "      <td>1957</td>\n",
       "    </tr>\n",
       "    <tr>\n",
       "      <th>1</th>\n",
       "      <td>44616</td>\n",
       "      <td>Cuauhtemoc</td>\n",
       "      <td>Condesa</td>\n",
       "      <td>6140</td>\n",
       "      <td>19.41006</td>\n",
       "      <td>-99.17645</td>\n",
       "      <td>1906</td>\n",
       "    </tr>\n",
       "    <tr>\n",
       "      <th>2</th>\n",
       "      <td>58955</td>\n",
       "      <td>Cuauhtemoc</td>\n",
       "      <td>Roma Norte</td>\n",
       "      <td>6700</td>\n",
       "      <td>19.42292</td>\n",
       "      <td>-99.15775</td>\n",
       "      <td>1620</td>\n",
       "    </tr>\n",
       "    <tr>\n",
       "      <th>3</th>\n",
       "      <td>61792</td>\n",
       "      <td>Cuauhtemoc</td>\n",
       "      <td>Condesa</td>\n",
       "      <td>6140</td>\n",
       "      <td>19.41259</td>\n",
       "      <td>-99.17959</td>\n",
       "      <td>953</td>\n",
       "    </tr>\n",
       "    <tr>\n",
       "      <th>4</th>\n",
       "      <td>67703</td>\n",
       "      <td>Cuauhtemoc</td>\n",
       "      <td>Hipodromo</td>\n",
       "      <td>6100</td>\n",
       "      <td>19.41375</td>\n",
       "      <td>-99.17028</td>\n",
       "      <td>1810</td>\n",
       "    </tr>\n",
       "  </tbody>\n",
       "</table>\n",
       "</div>"
      ],
      "text/plain": [
       "      id neighbourhood_cleansed neighbourhood zipcode  latitude  longitude  \\\n",
       "0  22787             Cuauhtemoc    San Rafael    6470  19.44076  -99.16324   \n",
       "1  44616             Cuauhtemoc       Condesa    6140  19.41006  -99.17645   \n",
       "2  58955             Cuauhtemoc    Roma Norte    6700  19.42292  -99.15775   \n",
       "3  61792             Cuauhtemoc       Condesa    6140  19.41259  -99.17959   \n",
       "4  67703             Cuauhtemoc     Hipodromo    6100  19.41375  -99.17028   \n",
       "\n",
       "   price  \n",
       "0   1957  \n",
       "1   1906  \n",
       "2   1620  \n",
       "3    953  \n",
       "4   1810  "
      ]
     },
     "execution_count": 98,
     "metadata": {},
     "output_type": "execute_result"
    }
   ],
   "source": [
    "airbnb_positive1_df.head()"
   ]
  },
  {
   "cell_type": "code",
   "execution_count": 99,
   "metadata": {},
   "outputs": [],
   "source": [
    "# all county to list\n",
    "all_county = airbnb_positive1_df[\"neighbourhood_cleansed\"].tolist()\n",
    "#all_county"
   ]
  },
  {
   "cell_type": "code",
   "execution_count": 100,
   "metadata": {},
   "outputs": [],
   "source": [
    "# all price to list\n",
    "all_price = airbnb_positive1_df[\"price\"].tolist()\n",
    "#all_price"
   ]
  },
  {
   "cell_type": "code",
   "execution_count": 101,
   "metadata": {},
   "outputs": [
    {
     "data": {
      "image/png": "[encoded data removed]",
      "text/plain": [
       "<Figure size 432x288 with 1 Axes>"
      ]
     },
     "metadata": {
      "needs_background": "light"
     },
     "output_type": "display_data"
    }
   ],
   "source": [
    "plt.scatter(all_county, all_price, marker=\"o\", facecolors=\"gold\", edgecolors=\"black\",\n",
    "            s=x_axis, alpha=1, label=\"Counties\")\n",
    "plt.title(\"County vs Price\")\n",
    "plt.xlabel(\"County\")\n",
    "plt.ylabel(\"Price ($)\")\n",
    "plt.xticks(tick_locations, all_county, rotation='vertical')\n",
    "plt.legend(loc=\"upper right\")\n",
    "plt.grid()\n",
    "plt.show\n",
    "plt.savefig(\"scatter_allprice.png\")"
   ]
  },
  {
   "cell_type": "markdown",
   "metadata": {},
   "source": [
    "# p-value"
   ]
  },
  {
   "cell_type": "code",
   "execution_count": 102,
   "metadata": {},
   "outputs": [],
   "source": [
    "import scipy.stats as stats\n",
    "import warnings\n",
    "warnings.filterwarnings('ignore')"
   ]
  },
  {
   "cell_type": "code",
   "execution_count": 103,
   "metadata": {},
   "outputs": [
    {
     "data": {
      "text/html": [
       "<div>\n",
       "<style scoped>\n",
       "    .dataframe tbody tr th:only-of-type {\n",
       "        vertical-align: middle;\n",
       "    }\n",
       "\n",
       "    .dataframe tbody tr th {\n",
       "        vertical-align: top;\n",
       "    }\n",
       "\n",
       "    .dataframe thead th {\n",
       "        text-align: right;\n",
       "    }\n",
       "</style>\n",
       "<table border=\"1\" class=\"dataframe\">\n",
       "  <thead>\n",
       "    <tr style=\"text-align: right;\">\n",
       "      <th></th>\n",
       "      <th>id</th>\n",
       "      <th>neighbourhood_cleansed</th>\n",
       "      <th>neighbourhood</th>\n",
       "      <th>zipcode</th>\n",
       "      <th>latitude</th>\n",
       "      <th>longitude</th>\n",
       "      <th>price</th>\n",
       "    </tr>\n",
       "  </thead>\n",
       "  <tbody>\n",
       "    <tr>\n",
       "      <th>0</th>\n",
       "      <td>22787</td>\n",
       "      <td>Cuauhtemoc</td>\n",
       "      <td>San Rafael</td>\n",
       "      <td>6470</td>\n",
       "      <td>19.44076</td>\n",
       "      <td>-99.16324</td>\n",
       "      <td>1957</td>\n",
       "    </tr>\n",
       "    <tr>\n",
       "      <th>1</th>\n",
       "      <td>44616</td>\n",
       "      <td>Cuauhtemoc</td>\n",
       "      <td>Condesa</td>\n",
       "      <td>6140</td>\n",
       "      <td>19.41006</td>\n",
       "      <td>-99.17645</td>\n",
       "      <td>1906</td>\n",
       "    </tr>\n",
       "    <tr>\n",
       "      <th>2</th>\n",
       "      <td>58955</td>\n",
       "      <td>Cuauhtemoc</td>\n",
       "      <td>Roma Norte</td>\n",
       "      <td>6700</td>\n",
       "      <td>19.42292</td>\n",
       "      <td>-99.15775</td>\n",
       "      <td>1620</td>\n",
       "    </tr>\n",
       "    <tr>\n",
       "      <th>3</th>\n",
       "      <td>61792</td>\n",
       "      <td>Cuauhtemoc</td>\n",
       "      <td>Condesa</td>\n",
       "      <td>6140</td>\n",
       "      <td>19.41259</td>\n",
       "      <td>-99.17959</td>\n",
       "      <td>953</td>\n",
       "    </tr>\n",
       "    <tr>\n",
       "      <th>4</th>\n",
       "      <td>67703</td>\n",
       "      <td>Cuauhtemoc</td>\n",
       "      <td>Hipodromo</td>\n",
       "      <td>6100</td>\n",
       "      <td>19.41375</td>\n",
       "      <td>-99.17028</td>\n",
       "      <td>1810</td>\n",
       "    </tr>\n",
       "  </tbody>\n",
       "</table>\n",
       "</div>"
      ],
      "text/plain": [
       "      id neighbourhood_cleansed neighbourhood zipcode  latitude  longitude  \\\n",
       "0  22787             Cuauhtemoc    San Rafael    6470  19.44076  -99.16324   \n",
       "1  44616             Cuauhtemoc       Condesa    6140  19.41006  -99.17645   \n",
       "2  58955             Cuauhtemoc    Roma Norte    6700  19.42292  -99.15775   \n",
       "3  61792             Cuauhtemoc       Condesa    6140  19.41259  -99.17959   \n",
       "4  67703             Cuauhtemoc     Hipodromo    6100  19.41375  -99.17028   \n",
       "\n",
       "   price  \n",
       "0   1957  \n",
       "1   1906  \n",
       "2   1620  \n",
       "3    953  \n",
       "4   1810  "
      ]
     },
     "execution_count": 103,
     "metadata": {},
     "output_type": "execute_result"
    }
   ],
   "source": [
    "# using the clean dataframe >0 and <37,000\n",
    "airbnb_positive1_df = airbnb_positive_df.loc[airbnb_positive_df[\"price\"]<37000,[\"id\",\"neighbourhood_cleansed\",\n",
    "                                        \"neighbourhood\",\"zipcode\",\"latitude\",\"longitude\",\"price\"]]\n",
    "airbnb_positive1_df.head()"
   ]
  },
  {
   "cell_type": "code",
   "execution_count": 104,
   "metadata": {},
   "outputs": [
    {
     "data": {
      "text/html": [
       "<div>\n",
       "<style scoped>\n",
       "    .dataframe tbody tr th:only-of-type {\n",
       "        vertical-align: middle;\n",
       "    }\n",
       "\n",
       "    .dataframe tbody tr th {\n",
       "        vertical-align: top;\n",
       "    }\n",
       "\n",
       "    .dataframe thead th {\n",
       "        text-align: right;\n",
       "    }\n",
       "</style>\n",
       "<table border=\"1\" class=\"dataframe\">\n",
       "  <thead>\n",
       "    <tr style=\"text-align: right;\">\n",
       "      <th></th>\n",
       "      <th>id</th>\n",
       "      <th>neighbourhood_cleansed</th>\n",
       "      <th>neighbourhood</th>\n",
       "      <th>zipcode</th>\n",
       "      <th>latitude</th>\n",
       "      <th>longitude</th>\n",
       "      <th>price</th>\n",
       "      <th>index1</th>\n",
       "    </tr>\n",
       "  </thead>\n",
       "  <tbody>\n",
       "    <tr>\n",
       "      <th>0</th>\n",
       "      <td>22787</td>\n",
       "      <td>Cuauhtemoc</td>\n",
       "      <td>San Rafael</td>\n",
       "      <td>6470</td>\n",
       "      <td>19.44076</td>\n",
       "      <td>-99.16324</td>\n",
       "      <td>1957</td>\n",
       "      <td>5.0</td>\n",
       "    </tr>\n",
       "    <tr>\n",
       "      <th>1</th>\n",
       "      <td>44616</td>\n",
       "      <td>Cuauhtemoc</td>\n",
       "      <td>Condesa</td>\n",
       "      <td>6140</td>\n",
       "      <td>19.41006</td>\n",
       "      <td>-99.17645</td>\n",
       "      <td>1906</td>\n",
       "      <td>5.0</td>\n",
       "    </tr>\n",
       "    <tr>\n",
       "      <th>2</th>\n",
       "      <td>58955</td>\n",
       "      <td>Cuauhtemoc</td>\n",
       "      <td>Roma Norte</td>\n",
       "      <td>6700</td>\n",
       "      <td>19.42292</td>\n",
       "      <td>-99.15775</td>\n",
       "      <td>1620</td>\n",
       "      <td>5.0</td>\n",
       "    </tr>\n",
       "    <tr>\n",
       "      <th>3</th>\n",
       "      <td>61792</td>\n",
       "      <td>Cuauhtemoc</td>\n",
       "      <td>Condesa</td>\n",
       "      <td>6140</td>\n",
       "      <td>19.41259</td>\n",
       "      <td>-99.17959</td>\n",
       "      <td>953</td>\n",
       "      <td>5.0</td>\n",
       "    </tr>\n",
       "    <tr>\n",
       "      <th>4</th>\n",
       "      <td>67703</td>\n",
       "      <td>Cuauhtemoc</td>\n",
       "      <td>Hipodromo</td>\n",
       "      <td>6100</td>\n",
       "      <td>19.41375</td>\n",
       "      <td>-99.17028</td>\n",
       "      <td>1810</td>\n",
       "      <td>5.0</td>\n",
       "    </tr>\n",
       "  </tbody>\n",
       "</table>\n",
       "</div>"
      ],
      "text/plain": [
       "      id neighbourhood_cleansed neighbourhood zipcode  latitude  longitude  \\\n",
       "0  22787             Cuauhtemoc    San Rafael    6470  19.44076  -99.16324   \n",
       "1  44616             Cuauhtemoc       Condesa    6140  19.41006  -99.17645   \n",
       "2  58955             Cuauhtemoc    Roma Norte    6700  19.42292  -99.15775   \n",
       "3  61792             Cuauhtemoc       Condesa    6140  19.41259  -99.17959   \n",
       "4  67703             Cuauhtemoc     Hipodromo    6100  19.41375  -99.17028   \n",
       "\n",
       "   price  index1  \n",
       "0   1957     5.0  \n",
       "1   1906     5.0  \n",
       "2   1620     5.0  \n",
       "3    953     5.0  \n",
       "4   1810     5.0  "
      ]
     },
     "execution_count": 104,
     "metadata": {},
     "output_type": "execute_result"
    }
   ],
   "source": [
    "# inserting a new column index1 for p-value purpose\n",
    "# assigning values to each neighbourhood_cleansed\n",
    "# Alvaro Obregon=1, Azcapotzalco=2, Benito Juarez=3, Coyoacan=4, Cuauhtemoc=5\n",
    "# Gustavo A. Madero=6, Iztacalco=7, Iztapalapa=8, Miguel Hidalgo=9, Venustiano Carranza=10\n",
    "airbnb_positive1_df.loc[airbnb_positive1_df['neighbourhood_cleansed'] == 'Alvaro Obregon', 'index1'] = 1\n",
    "airbnb_positive1_df.loc[airbnb_positive1_df['neighbourhood_cleansed'] == 'Azcapotzalco', 'index1'] = 2\n",
    "airbnb_positive1_df.loc[airbnb_positive1_df['neighbourhood_cleansed'] == 'Benito Juarez', 'index1'] = 3\n",
    "airbnb_positive1_df.loc[airbnb_positive1_df['neighbourhood_cleansed'] == 'Coyoacan', 'index1'] = 4\n",
    "airbnb_positive1_df.loc[airbnb_positive1_df['neighbourhood_cleansed'] == 'Cuauhtemoc', 'index1'] = 5\n",
    "airbnb_positive1_df.loc[airbnb_positive1_df['neighbourhood_cleansed'] == 'Gustavo A. Madero', 'index1'] = 6\n",
    "airbnb_positive1_df.loc[airbnb_positive1_df['neighbourhood_cleansed'] == 'Iztacalco', 'index1'] = 7\n",
    "airbnb_positive1_df.loc[airbnb_positive1_df['neighbourhood_cleansed'] == 'Iztapalapa', 'index1'] = 8\n",
    "airbnb_positive1_df.loc[airbnb_positive1_df['neighbourhood_cleansed'] == 'Miguel Hidalgo', 'index1'] = 9\n",
    "airbnb_positive1_df.loc[airbnb_positive1_df['neighbourhood_cleansed'] == 'Venustiano Carranza', 'index1'] = 10\n",
    "airbnb_positive1_df.head()"
   ]
  },
  {
   "cell_type": "code",
   "execution_count": 105,
   "metadata": {},
   "outputs": [
    {
     "data": {
      "image/png": "[encoded data removed]",
      "text/plain": [
       "<Figure size 1440x720 with 1 Axes>"
      ]
     },
     "metadata": {
      "needs_background": "light"
     },
     "output_type": "display_data"
    }
   ],
   "source": [
    "# Create a boxplot to compare means\n",
    "airbnb_positive1_df.boxplot(\"price\", by=\"index1\", figsize=(20, 10))\n",
    "plt.savefig(\"pvalue_price.png\")"
   ]
  },
  {
   "cell_type": "code",
   "execution_count": 106,
   "metadata": {},
   "outputs": [],
   "source": [
    "# Extract individual groups\n",
    "group1 = airbnb_positive1_df[airbnb_positive1_df[\"index1\"] == 1][\"price\"]\n",
    "group2 = airbnb_positive1_df[airbnb_positive1_df[\"index1\"] == 2][\"price\"]\n",
    "group3 = airbnb_positive1_df[airbnb_positive1_df[\"index1\"] == 3][\"price\"]\n",
    "group4 = airbnb_positive1_df[airbnb_positive1_df[\"index1\"] == 4][\"price\"]\n",
    "group5 = airbnb_positive1_df[airbnb_positive1_df[\"index1\"] == 5][\"price\"]\n",
    "group6 = airbnb_positive1_df[airbnb_positive1_df[\"index1\"] == 6][\"price\"]\n",
    "group7 = airbnb_positive1_df[airbnb_positive1_df[\"index1\"] == 7][\"price\"]\n",
    "group8 = airbnb_positive1_df[airbnb_positive1_df[\"index1\"] == 8][\"price\"]\n",
    "group9 = airbnb_positive1_df[airbnb_positive1_df[\"index1\"] == 9][\"price\"]\n",
    "group10 = airbnb_positive1_df[airbnb_positive1_df[\"index1\"] == 10][\"price\"]"
   ]
  },
  {
   "cell_type": "code",
   "execution_count": 107,
   "metadata": {},
   "outputs": [
    {
     "data": {
      "text/plain": [
       "F_onewayResult(statistic=1.9361317311939898, pvalue=0.16515928290108603)"
      ]
     },
     "execution_count": 107,
     "metadata": {},
     "output_type": "execute_result"
    }
   ],
   "source": [
    "# Perform the ANOVA\n",
    "stats.f_oneway(group1, group2)"
   ]
  },
  {
   "cell_type": "markdown",
   "metadata": {},
   "source": [
    "# p-value option 2"
   ]
  },
  {
   "cell_type": "code",
   "execution_count": 108,
   "metadata": {},
   "outputs": [
    {
     "data": {
      "text/html": [
       "<div>\n",
       "<style scoped>\n",
       "    .dataframe tbody tr th:only-of-type {\n",
       "        vertical-align: middle;\n",
       "    }\n",
       "\n",
       "    .dataframe tbody tr th {\n",
       "        vertical-align: top;\n",
       "    }\n",
       "\n",
       "    .dataframe thead th {\n",
       "        text-align: right;\n",
       "    }\n",
       "</style>\n",
       "<table border=\"1\" class=\"dataframe\">\n",
       "  <thead>\n",
       "    <tr style=\"text-align: right;\">\n",
       "      <th></th>\n",
       "      <th>id</th>\n",
       "      <th>neighbourhood_cleansed</th>\n",
       "      <th>neighbourhood</th>\n",
       "      <th>zipcode</th>\n",
       "      <th>latitude</th>\n",
       "      <th>longitude</th>\n",
       "      <th>price</th>\n",
       "    </tr>\n",
       "  </thead>\n",
       "  <tbody>\n",
       "    <tr>\n",
       "      <th>3</th>\n",
       "      <td>61792</td>\n",
       "      <td>Cuauhtemoc</td>\n",
       "      <td>Condesa</td>\n",
       "      <td>6140</td>\n",
       "      <td>19.41259</td>\n",
       "      <td>-99.17959</td>\n",
       "      <td>953</td>\n",
       "    </tr>\n",
       "    <tr>\n",
       "      <th>15</th>\n",
       "      <td>325812</td>\n",
       "      <td>Cuauhtemoc</td>\n",
       "      <td>Centro Historico</td>\n",
       "      <td>6000</td>\n",
       "      <td>19.43453</td>\n",
       "      <td>-99.14675</td>\n",
       "      <td>648</td>\n",
       "    </tr>\n",
       "    <tr>\n",
       "      <th>16</th>\n",
       "      <td>326296</td>\n",
       "      <td>Coyoacan</td>\n",
       "      <td>Florida/Axotla</td>\n",
       "      <td>4318</td>\n",
       "      <td>19.34004</td>\n",
       "      <td>-99.18273</td>\n",
       "      <td>380</td>\n",
       "    </tr>\n",
       "    <tr>\n",
       "      <th>17</th>\n",
       "      <td>326475</td>\n",
       "      <td>Cuauhtemoc</td>\n",
       "      <td>Roma Norte</td>\n",
       "      <td>6700</td>\n",
       "      <td>19.41297</td>\n",
       "      <td>-99.15735</td>\n",
       "      <td>648</td>\n",
       "    </tr>\n",
       "    <tr>\n",
       "      <th>20</th>\n",
       "      <td>386265</td>\n",
       "      <td>Coyoacan</td>\n",
       "      <td>Coyoacan</td>\n",
       "      <td>4040</td>\n",
       "      <td>19.34303</td>\n",
       "      <td>-99.15425</td>\n",
       "      <td>248</td>\n",
       "    </tr>\n",
       "  </tbody>\n",
       "</table>\n",
       "</div>"
      ],
      "text/plain": [
       "        id neighbourhood_cleansed     neighbourhood zipcode  latitude  \\\n",
       "3    61792             Cuauhtemoc           Condesa    6140  19.41259   \n",
       "15  325812             Cuauhtemoc  Centro Historico    6000  19.43453   \n",
       "16  326296               Coyoacan    Florida/Axotla    4318  19.34004   \n",
       "17  326475             Cuauhtemoc        Roma Norte    6700  19.41297   \n",
       "20  386265               Coyoacan          Coyoacan    4040  19.34303   \n",
       "\n",
       "    longitude  price  \n",
       "3   -99.17959    953  \n",
       "15  -99.14675    648  \n",
       "16  -99.18273    380  \n",
       "17  -99.15735    648  \n",
       "20  -99.15425    248  "
      ]
     },
     "execution_count": 108,
     "metadata": {},
     "output_type": "execute_result"
    }
   ],
   "source": [
    "# using the clean dataframe >0 and <...\n",
    "airbnb_positive12_df = airbnb_positive_df.loc[airbnb_positive_df[\"price\"]<1000,[\"id\",\"neighbourhood_cleansed\",\n",
    "                                        \"neighbourhood\",\"zipcode\",\"latitude\",\"longitude\",\"price\"]]\n",
    "airbnb_positive12_df.head()"
   ]
  },
  {
   "cell_type": "code",
   "execution_count": 109,
   "metadata": {},
   "outputs": [
    {
     "data": {
      "text/html": [
       "<div>\n",
       "<style scoped>\n",
       "    .dataframe tbody tr th:only-of-type {\n",
       "        vertical-align: middle;\n",
       "    }\n",
       "\n",
       "    .dataframe tbody tr th {\n",
       "        vertical-align: top;\n",
       "    }\n",
       "\n",
       "    .dataframe thead th {\n",
       "        text-align: right;\n",
       "    }\n",
       "</style>\n",
       "<table border=\"1\" class=\"dataframe\">\n",
       "  <thead>\n",
       "    <tr style=\"text-align: right;\">\n",
       "      <th></th>\n",
       "      <th>id</th>\n",
       "      <th>neighbourhood_cleansed</th>\n",
       "      <th>neighbourhood</th>\n",
       "      <th>zipcode</th>\n",
       "      <th>latitude</th>\n",
       "      <th>longitude</th>\n",
       "      <th>price</th>\n",
       "      <th>index1</th>\n",
       "    </tr>\n",
       "  </thead>\n",
       "  <tbody>\n",
       "    <tr>\n",
       "      <th>3</th>\n",
       "      <td>61792</td>\n",
       "      <td>Cuauhtemoc</td>\n",
       "      <td>Condesa</td>\n",
       "      <td>6140</td>\n",
       "      <td>19.41259</td>\n",
       "      <td>-99.17959</td>\n",
       "      <td>953</td>\n",
       "      <td>5.0</td>\n",
       "    </tr>\n",
       "    <tr>\n",
       "      <th>15</th>\n",
       "      <td>325812</td>\n",
       "      <td>Cuauhtemoc</td>\n",
       "      <td>Centro Historico</td>\n",
       "      <td>6000</td>\n",
       "      <td>19.43453</td>\n",
       "      <td>-99.14675</td>\n",
       "      <td>648</td>\n",
       "      <td>5.0</td>\n",
       "    </tr>\n",
       "    <tr>\n",
       "      <th>16</th>\n",
       "      <td>326296</td>\n",
       "      <td>Coyoacan</td>\n",
       "      <td>Florida/Axotla</td>\n",
       "      <td>4318</td>\n",
       "      <td>19.34004</td>\n",
       "      <td>-99.18273</td>\n",
       "      <td>380</td>\n",
       "      <td>4.0</td>\n",
       "    </tr>\n",
       "    <tr>\n",
       "      <th>17</th>\n",
       "      <td>326475</td>\n",
       "      <td>Cuauhtemoc</td>\n",
       "      <td>Roma Norte</td>\n",
       "      <td>6700</td>\n",
       "      <td>19.41297</td>\n",
       "      <td>-99.15735</td>\n",
       "      <td>648</td>\n",
       "      <td>5.0</td>\n",
       "    </tr>\n",
       "    <tr>\n",
       "      <th>20</th>\n",
       "      <td>386265</td>\n",
       "      <td>Coyoacan</td>\n",
       "      <td>Coyoacan</td>\n",
       "      <td>4040</td>\n",
       "      <td>19.34303</td>\n",
       "      <td>-99.15425</td>\n",
       "      <td>248</td>\n",
       "      <td>4.0</td>\n",
       "    </tr>\n",
       "  </tbody>\n",
       "</table>\n",
       "</div>"
      ],
      "text/plain": [
       "        id neighbourhood_cleansed     neighbourhood zipcode  latitude  \\\n",
       "3    61792             Cuauhtemoc           Condesa    6140  19.41259   \n",
       "15  325812             Cuauhtemoc  Centro Historico    6000  19.43453   \n",
       "16  326296               Coyoacan    Florida/Axotla    4318  19.34004   \n",
       "17  326475             Cuauhtemoc        Roma Norte    6700  19.41297   \n",
       "20  386265               Coyoacan          Coyoacan    4040  19.34303   \n",
       "\n",
       "    longitude  price  index1  \n",
       "3   -99.17959    953     5.0  \n",
       "15  -99.14675    648     5.0  \n",
       "16  -99.18273    380     4.0  \n",
       "17  -99.15735    648     5.0  \n",
       "20  -99.15425    248     4.0  "
      ]
     },
     "execution_count": 109,
     "metadata": {},
     "output_type": "execute_result"
    }
   ],
   "source": [
    "airbnb_positive12_df.loc[airbnb_positive12_df['neighbourhood_cleansed'] == 'Alvaro Obregon', 'index1'] = 1\n",
    "airbnb_positive12_df.loc[airbnb_positive12_df['neighbourhood_cleansed'] == 'Azcapotzalco', 'index1'] = 2\n",
    "airbnb_positive12_df.loc[airbnb_positive12_df['neighbourhood_cleansed'] == 'Benito Juarez', 'index1'] = 3\n",
    "airbnb_positive12_df.loc[airbnb_positive12_df['neighbourhood_cleansed'] == 'Coyoacan', 'index1'] = 4\n",
    "airbnb_positive12_df.loc[airbnb_positive12_df['neighbourhood_cleansed'] == 'Cuauhtemoc', 'index1'] = 5\n",
    "airbnb_positive12_df.loc[airbnb_positive12_df['neighbourhood_cleansed'] == 'Gustavo A. Madero', 'index1'] = 6\n",
    "airbnb_positive12_df.loc[airbnb_positive12_df['neighbourhood_cleansed'] == 'Iztacalco', 'index1'] = 7\n",
    "airbnb_positive12_df.loc[airbnb_positive12_df['neighbourhood_cleansed'] == 'Iztapalapa', 'index1'] = 8\n",
    "airbnb_positive12_df.loc[airbnb_positive12_df['neighbourhood_cleansed'] == 'Miguel Hidalgo', 'index1'] = 9\n",
    "airbnb_positive12_df.loc[airbnb_positive12_df['neighbourhood_cleansed'] == 'Venustiano Carranza', 'index1'] = 10\n",
    "airbnb_positive12_df.head()"
   ]
  },
  {
   "cell_type": "code",
   "execution_count": 110,
   "metadata": {},
   "outputs": [
    {
     "data": {
      "image/png": "[encoded data removed]",
      "text/plain": [
       "<Figure size 1440x720 with 1 Axes>"
      ]
     },
     "metadata": {
      "needs_background": "light"
     },
     "output_type": "display_data"
    }
   ],
   "source": [
    "# Create a boxplot to compare means\n",
    "airbnb_positive12_df.boxplot(\"price\", by=\"index1\", figsize=(20, 10))\n",
    "plt.savefig(\"pvalue2_price.png\")"
   ]
  },
  {
   "cell_type": "code",
   "execution_count": 111,
   "metadata": {},
   "outputs": [],
   "source": [
    "group1 = airbnb_positive12_df[airbnb_positive12_df[\"index1\"] == 1][\"price\"]\n",
    "group2 = airbnb_positive12_df[airbnb_positive12_df[\"index1\"] == 2][\"price\"]\n",
    "group3 = airbnb_positive12_df[airbnb_positive12_df[\"index1\"] == 3][\"price\"]\n",
    "group4 = airbnb_positive12_df[airbnb_positive12_df[\"index1\"] == 4][\"price\"]\n",
    "group5 = airbnb_positive12_df[airbnb_positive12_df[\"index1\"] == 5][\"price\"]\n",
    "group6 = airbnb_positive12_df[airbnb_positive12_df[\"index1\"] == 6][\"price\"]\n",
    "group7 = airbnb_positive12_df[airbnb_positive12_df[\"index1\"] == 7][\"price\"]\n",
    "group8 = airbnb_positive12_df[airbnb_positive12_df[\"index1\"] == 8][\"price\"]\n",
    "group9 = airbnb_positive12_df[airbnb_positive12_df[\"index1\"] == 9][\"price\"]\n",
    "group10 = airbnb_positive12_df[airbnb_positive12_df[\"index1\"] == 10][\"price\"]"
   ]
  },
  {
   "cell_type": "code",
   "execution_count": 112,
   "metadata": {},
   "outputs": [
    {
     "data": {
      "text/plain": [
       "F_onewayResult(statistic=0.07260978007150497, pvalue=0.7878387463980046)"
      ]
     },
     "execution_count": 112,
     "metadata": {},
     "output_type": "execute_result"
    }
   ],
   "source": [
    "# Perform the ANOVA\n",
    "stats.f_oneway(group1, group2)"
   ]
  },
  {
   "cell_type": "code",
   "execution_count": null,
   "metadata": {},
   "outputs": [],
   "source": []
  }
 ],
 "metadata": {
  "kernelspec": {
   "display_name": "Python 3",
   "language": "python",
   "name": "python3"
  },
  "language_info": {
   "codemirror_mode": {
    "name": "ipython",
    "version": 3
   },
   "file_extension": ".py",
   "mimetype": "text/x-python",
   "name": "python",
   "nbconvert_exporter": "python",
   "pygments_lexer": "ipython3",
   "version": "3.7.3"
  }
 },
 "nbformat": 4,
 "nbformat_minor": 2
}
