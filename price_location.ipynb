{
 "cells": [
  {
   "cell_type": "code",
   "execution_count": 1,
   "metadata": {},
   "outputs": [
    {
     "data": {
      "text/html": [
       "<div>\n",
       "<style scoped>\n",
       "    .dataframe tbody tr th:only-of-type {\n",
       "        vertical-align: middle;\n",
       "    }\n",
       "\n",
       "    .dataframe tbody tr th {\n",
       "        vertical-align: top;\n",
       "    }\n",
       "\n",
       "    .dataframe thead th {\n",
       "        text-align: right;\n",
       "    }\n",
       "</style>\n",
       "<table border=\"1\" class=\"dataframe\">\n",
       "  <thead>\n",
       "    <tr style=\"text-align: right;\">\n",
       "      <th></th>\n",
       "      <th>id</th>\n",
       "      <th>name</th>\n",
       "      <th>host_id</th>\n",
       "      <th>host_name</th>\n",
       "      <th>neighbourhood_cleansed</th>\n",
       "      <th>neighbourhood</th>\n",
       "      <th>zipcode</th>\n",
       "      <th>latitude</th>\n",
       "      <th>longitude</th>\n",
       "      <th>room_type</th>\n",
       "      <th>price</th>\n",
       "      <th>minimum_nights</th>\n",
       "      <th>number_of_reviews</th>\n",
       "      <th>last_review</th>\n",
       "      <th>reviews_per_month</th>\n",
       "      <th>calculated_host_listings_count</th>\n",
       "      <th>availability_365</th>\n",
       "      <th>bed_type</th>\n",
       "      <th>amenities</th>\n",
       "      <th>review_scores_rating</th>\n",
       "    </tr>\n",
       "  </thead>\n",
       "  <tbody>\n",
       "    <tr>\n",
       "      <th>0</th>\n",
       "      <td>22787</td>\n",
       "      <td>Sunny suite w/ queen size bed, inside boutique...</td>\n",
       "      <td>87973</td>\n",
       "      <td>Diego</td>\n",
       "      <td>Cuauhtemoc</td>\n",
       "      <td>San Rafael</td>\n",
       "      <td>6470</td>\n",
       "      <td>19.44076</td>\n",
       "      <td>-99.16324</td>\n",
       "      <td>Private room</td>\n",
       "      <td>1957</td>\n",
       "      <td>1</td>\n",
       "      <td>10</td>\n",
       "      <td>11/05/2018</td>\n",
       "      <td>0.58</td>\n",
       "      <td>8</td>\n",
       "      <td>0</td>\n",
       "      <td>Real Bed</td>\n",
       "      <td>{Wifi,\"Paid parking off premises\",Breakfast,Wa...</td>\n",
       "      <td>87.0</td>\n",
       "    </tr>\n",
       "    <tr>\n",
       "      <th>1</th>\n",
       "      <td>44616</td>\n",
       "      <td>CONDESA HAUS BOUTIQUE B&amp;B</td>\n",
       "      <td>196253</td>\n",
       "      <td>Condesa Haus Bed &amp; BReakfast  CDMX</td>\n",
       "      <td>Cuauhtemoc</td>\n",
       "      <td>Condesa</td>\n",
       "      <td>6140</td>\n",
       "      <td>19.41006</td>\n",
       "      <td>-99.17645</td>\n",
       "      <td>Private room</td>\n",
       "      <td>1906</td>\n",
       "      <td>1</td>\n",
       "      <td>39</td>\n",
       "      <td>02/05/2019</td>\n",
       "      <td>0.43</td>\n",
       "      <td>10</td>\n",
       "      <td>330</td>\n",
       "      <td>Real Bed</td>\n",
       "      <td>{TV,\"Cable TV\",Internet,Wifi,\"Free parking on ...</td>\n",
       "      <td>89.0</td>\n",
       "    </tr>\n",
       "    <tr>\n",
       "      <th>2</th>\n",
       "      <td>58955</td>\n",
       "      <td>Entire beautiful duplex in la Roma</td>\n",
       "      <td>282620</td>\n",
       "      <td>Nat</td>\n",
       "      <td>Cuauhtemoc</td>\n",
       "      <td>Roma Norte</td>\n",
       "      <td>6700</td>\n",
       "      <td>19.42292</td>\n",
       "      <td>-99.15775</td>\n",
       "      <td>Entire home/apt</td>\n",
       "      <td>1620</td>\n",
       "      <td>3</td>\n",
       "      <td>37</td>\n",
       "      <td>01/01/2019</td>\n",
       "      <td>0.41</td>\n",
       "      <td>1</td>\n",
       "      <td>173</td>\n",
       "      <td>Real Bed</td>\n",
       "      <td>{Internet,Wifi,\"Wheelchair accessible\",Kitchen...</td>\n",
       "      <td>100.0</td>\n",
       "    </tr>\n",
       "    <tr>\n",
       "      <th>3</th>\n",
       "      <td>61792</td>\n",
       "      <td>Spacious Clean Quiet room (own bath) in la Con...</td>\n",
       "      <td>299558</td>\n",
       "      <td>Roberto</td>\n",
       "      <td>Cuauhtemoc</td>\n",
       "      <td>Condesa</td>\n",
       "      <td>6140</td>\n",
       "      <td>19.41259</td>\n",
       "      <td>-99.17959</td>\n",
       "      <td>Private room</td>\n",
       "      <td>953</td>\n",
       "      <td>2</td>\n",
       "      <td>51</td>\n",
       "      <td>05/04/2019</td>\n",
       "      <td>2.69</td>\n",
       "      <td>3</td>\n",
       "      <td>180</td>\n",
       "      <td>Real Bed</td>\n",
       "      <td>{TV,Wifi,Kitchen,\"Free street parking\",Heating...</td>\n",
       "      <td>98.0</td>\n",
       "    </tr>\n",
       "    <tr>\n",
       "      <th>4</th>\n",
       "      <td>67703</td>\n",
       "      <td>2 bedroom apt. deco bldg, Condesa</td>\n",
       "      <td>334451</td>\n",
       "      <td>Nicholas</td>\n",
       "      <td>Cuauhtemoc</td>\n",
       "      <td>Hipodromo</td>\n",
       "      <td>6100</td>\n",
       "      <td>19.41375</td>\n",
       "      <td>-99.17028</td>\n",
       "      <td>Entire home/apt</td>\n",
       "      <td>1810</td>\n",
       "      <td>2</td>\n",
       "      <td>39</td>\n",
       "      <td>24/02/2019</td>\n",
       "      <td>0.43</td>\n",
       "      <td>3</td>\n",
       "      <td>340</td>\n",
       "      <td>Real Bed</td>\n",
       "      <td>{TV,\"Cable TV\",Internet,Wifi,Kitchen,\"Buzzer/w...</td>\n",
       "      <td>98.0</td>\n",
       "    </tr>\n",
       "  </tbody>\n",
       "</table>\n",
       "</div>"
      ],
      "text/plain": [
       "      id                                               name  host_id  \\\n",
       "0  22787  Sunny suite w/ queen size bed, inside boutique...    87973   \n",
       "1  44616                          CONDESA HAUS BOUTIQUE B&B   196253   \n",
       "2  58955                 Entire beautiful duplex in la Roma   282620   \n",
       "3  61792  Spacious Clean Quiet room (own bath) in la Con...   299558   \n",
       "4  67703                  2 bedroom apt. deco bldg, Condesa   334451   \n",
       "\n",
       "                            host_name neighbourhood_cleansed neighbourhood  \\\n",
       "0                               Diego             Cuauhtemoc    San Rafael   \n",
       "1  Condesa Haus Bed & BReakfast  CDMX             Cuauhtemoc       Condesa   \n",
       "2                                 Nat             Cuauhtemoc    Roma Norte   \n",
       "3                             Roberto             Cuauhtemoc       Condesa   \n",
       "4                            Nicholas             Cuauhtemoc     Hipodromo   \n",
       "\n",
       "  zipcode  latitude  longitude        room_type  price  minimum_nights  \\\n",
       "0    6470  19.44076  -99.16324     Private room   1957               1   \n",
       "1    6140  19.41006  -99.17645     Private room   1906               1   \n",
       "2    6700  19.42292  -99.15775  Entire home/apt   1620               3   \n",
       "3    6140  19.41259  -99.17959     Private room    953               2   \n",
       "4    6100  19.41375  -99.17028  Entire home/apt   1810               2   \n",
       "\n",
       "   number_of_reviews last_review  reviews_per_month  \\\n",
       "0                 10  11/05/2018               0.58   \n",
       "1                 39  02/05/2019               0.43   \n",
       "2                 37  01/01/2019               0.41   \n",
       "3                 51  05/04/2019               2.69   \n",
       "4                 39  24/02/2019               0.43   \n",
       "\n",
       "   calculated_host_listings_count  availability_365  bed_type  \\\n",
       "0                               8                 0  Real Bed   \n",
       "1                              10               330  Real Bed   \n",
       "2                               1               173  Real Bed   \n",
       "3                               3               180  Real Bed   \n",
       "4                               3               340  Real Bed   \n",
       "\n",
       "                                           amenities  review_scores_rating  \n",
       "0  {Wifi,\"Paid parking off premises\",Breakfast,Wa...                  87.0  \n",
       "1  {TV,\"Cable TV\",Internet,Wifi,\"Free parking on ...                  89.0  \n",
       "2  {Internet,Wifi,\"Wheelchair accessible\",Kitchen...                 100.0  \n",
       "3  {TV,Wifi,Kitchen,\"Free street parking\",Heating...                  98.0  \n",
       "4  {TV,\"Cable TV\",Internet,Wifi,Kitchen,\"Buzzer/w...                  98.0  "
      ]
     },
     "execution_count": 1,
     "metadata": {},
     "output_type": "execute_result"
    }
   ],
   "source": [
    "%matplotlib inline\n",
    "# Dependencies and Setup\n",
    "import matplotlib.pyplot as plt\n",
    "import pandas as pd\n",
    "import numpy as np\n",
    "import random\n",
    "\n",
    "\n",
    "# read csv\n",
    "file = \"data_base_clean.csv\"\n",
    "df = pd.read_csv(file, encoding=\"ISO-8859-1\")\n",
    "df.head()"
   ]
  },
  {
   "cell_type": "code",
   "execution_count": 2,
   "metadata": {},
   "outputs": [
    {
     "data": {
      "text/plain": [
       "id                                10696\n",
       "name                              10696\n",
       "host_id                           10696\n",
       "host_name                         10696\n",
       "neighbourhood_cleansed            10696\n",
       "neighbourhood                     10696\n",
       "zipcode                           10696\n",
       "latitude                          10696\n",
       "longitude                         10696\n",
       "room_type                         10696\n",
       "price                             10696\n",
       "minimum_nights                    10696\n",
       "number_of_reviews                 10696\n",
       "last_review                       10696\n",
       "reviews_per_month                 10696\n",
       "calculated_host_listings_count    10696\n",
       "availability_365                  10696\n",
       "bed_type                          10696\n",
       "amenities                         10696\n",
       "review_scores_rating              10696\n",
       "dtype: int64"
      ]
     },
     "execution_count": 2,
     "metadata": {},
     "output_type": "execute_result"
    }
   ],
   "source": [
    "df.count()"
   ]
  },
  {
   "cell_type": "code",
   "execution_count": 3,
   "metadata": {},
   "outputs": [
    {
     "data": {
      "text/plain": [
       "Index(['id', 'name', 'host_id', 'host_name', 'neighbourhood_cleansed',\n",
       "       'neighbourhood', 'zipcode', 'latitude', 'longitude', 'room_type',\n",
       "       'price', 'minimum_nights', 'number_of_reviews', 'last_review',\n",
       "       'reviews_per_month', 'calculated_host_listings_count',\n",
       "       'availability_365', 'bed_type', 'amenities', 'review_scores_rating'],\n",
       "      dtype='object')"
      ]
     },
     "execution_count": 3,
     "metadata": {},
     "output_type": "execute_result"
    }
   ],
   "source": [
    "df.columns"
   ]
  },
  {
   "cell_type": "code",
   "execution_count": 4,
   "metadata": {},
   "outputs": [
    {
     "data": {
      "text/html": [
       "<div>\n",
       "<style scoped>\n",
       "    .dataframe tbody tr th:only-of-type {\n",
       "        vertical-align: middle;\n",
       "    }\n",
       "\n",
       "    .dataframe tbody tr th {\n",
       "        vertical-align: top;\n",
       "    }\n",
       "\n",
       "    .dataframe thead th {\n",
       "        text-align: right;\n",
       "    }\n",
       "</style>\n",
       "<table border=\"1\" class=\"dataframe\">\n",
       "  <thead>\n",
       "    <tr style=\"text-align: right;\">\n",
       "      <th></th>\n",
       "      <th>id</th>\n",
       "      <th>neighbourhood_cleansed</th>\n",
       "      <th>neighbourhood</th>\n",
       "      <th>zipcode</th>\n",
       "      <th>latitude</th>\n",
       "      <th>longitude</th>\n",
       "      <th>price</th>\n",
       "    </tr>\n",
       "  </thead>\n",
       "  <tbody>\n",
       "    <tr>\n",
       "      <th>0</th>\n",
       "      <td>22787</td>\n",
       "      <td>Cuauhtemoc</td>\n",
       "      <td>San Rafael</td>\n",
       "      <td>6470</td>\n",
       "      <td>19.44076</td>\n",
       "      <td>-99.16324</td>\n",
       "      <td>1957</td>\n",
       "    </tr>\n",
       "    <tr>\n",
       "      <th>1</th>\n",
       "      <td>44616</td>\n",
       "      <td>Cuauhtemoc</td>\n",
       "      <td>Condesa</td>\n",
       "      <td>6140</td>\n",
       "      <td>19.41006</td>\n",
       "      <td>-99.17645</td>\n",
       "      <td>1906</td>\n",
       "    </tr>\n",
       "    <tr>\n",
       "      <th>2</th>\n",
       "      <td>58955</td>\n",
       "      <td>Cuauhtemoc</td>\n",
       "      <td>Roma Norte</td>\n",
       "      <td>6700</td>\n",
       "      <td>19.42292</td>\n",
       "      <td>-99.15775</td>\n",
       "      <td>1620</td>\n",
       "    </tr>\n",
       "    <tr>\n",
       "      <th>3</th>\n",
       "      <td>61792</td>\n",
       "      <td>Cuauhtemoc</td>\n",
       "      <td>Condesa</td>\n",
       "      <td>6140</td>\n",
       "      <td>19.41259</td>\n",
       "      <td>-99.17959</td>\n",
       "      <td>953</td>\n",
       "    </tr>\n",
       "    <tr>\n",
       "      <th>4</th>\n",
       "      <td>67703</td>\n",
       "      <td>Cuauhtemoc</td>\n",
       "      <td>Hipodromo</td>\n",
       "      <td>6100</td>\n",
       "      <td>19.41375</td>\n",
       "      <td>-99.17028</td>\n",
       "      <td>1810</td>\n",
       "    </tr>\n",
       "  </tbody>\n",
       "</table>\n",
       "</div>"
      ],
      "text/plain": [
       "      id neighbourhood_cleansed neighbourhood zipcode  latitude  longitude  \\\n",
       "0  22787             Cuauhtemoc    San Rafael    6470  19.44076  -99.16324   \n",
       "1  44616             Cuauhtemoc       Condesa    6140  19.41006  -99.17645   \n",
       "2  58955             Cuauhtemoc    Roma Norte    6700  19.42292  -99.15775   \n",
       "3  61792             Cuauhtemoc       Condesa    6140  19.41259  -99.17959   \n",
       "4  67703             Cuauhtemoc     Hipodromo    6100  19.41375  -99.17028   \n",
       "\n",
       "   price  \n",
       "0   1957  \n",
       "1   1906  \n",
       "2   1620  \n",
       "3    953  \n",
       "4   1810  "
      ]
     },
     "execution_count": 4,
     "metadata": {},
     "output_type": "execute_result"
    }
   ],
   "source": [
    "# Remove properties with no price per night\n",
    "airbnb_positive_df = df.loc[df[\"price\"]>0,[\"id\",\"neighbourhood_cleansed\",\"neighbourhood\",\n",
    "                                        \"zipcode\",\"latitude\",\"longitude\",\"price\"]]\n",
    "airbnb_positive_df.head()"
   ]
  },
  {
   "cell_type": "code",
   "execution_count": 5,
   "metadata": {},
   "outputs": [
    {
     "data": {
      "text/html": [
       "<div>\n",
       "<style scoped>\n",
       "    .dataframe tbody tr th:only-of-type {\n",
       "        vertical-align: middle;\n",
       "    }\n",
       "\n",
       "    .dataframe tbody tr th {\n",
       "        vertical-align: top;\n",
       "    }\n",
       "\n",
       "    .dataframe thead th {\n",
       "        text-align: right;\n",
       "    }\n",
       "</style>\n",
       "<table border=\"1\" class=\"dataframe\">\n",
       "  <thead>\n",
       "    <tr style=\"text-align: right;\">\n",
       "      <th></th>\n",
       "      <th>id</th>\n",
       "      <th>neighbourhood_cleansed</th>\n",
       "      <th>neighbourhood</th>\n",
       "      <th>zipcode</th>\n",
       "      <th>latitude</th>\n",
       "      <th>longitude</th>\n",
       "      <th>price</th>\n",
       "    </tr>\n",
       "  </thead>\n",
       "  <tbody>\n",
       "    <tr>\n",
       "      <th>0</th>\n",
       "      <td>22787</td>\n",
       "      <td>Cuauhtemoc</td>\n",
       "      <td>San Rafael</td>\n",
       "      <td>6470</td>\n",
       "      <td>19.44076</td>\n",
       "      <td>-99.16324</td>\n",
       "      <td>1957</td>\n",
       "    </tr>\n",
       "    <tr>\n",
       "      <th>1</th>\n",
       "      <td>44616</td>\n",
       "      <td>Cuauhtemoc</td>\n",
       "      <td>Condesa</td>\n",
       "      <td>6140</td>\n",
       "      <td>19.41006</td>\n",
       "      <td>-99.17645</td>\n",
       "      <td>1906</td>\n",
       "    </tr>\n",
       "    <tr>\n",
       "      <th>2</th>\n",
       "      <td>58955</td>\n",
       "      <td>Cuauhtemoc</td>\n",
       "      <td>Roma Norte</td>\n",
       "      <td>6700</td>\n",
       "      <td>19.42292</td>\n",
       "      <td>-99.15775</td>\n",
       "      <td>1620</td>\n",
       "    </tr>\n",
       "    <tr>\n",
       "      <th>3</th>\n",
       "      <td>61792</td>\n",
       "      <td>Cuauhtemoc</td>\n",
       "      <td>Condesa</td>\n",
       "      <td>6140</td>\n",
       "      <td>19.41259</td>\n",
       "      <td>-99.17959</td>\n",
       "      <td>953</td>\n",
       "    </tr>\n",
       "    <tr>\n",
       "      <th>4</th>\n",
       "      <td>67703</td>\n",
       "      <td>Cuauhtemoc</td>\n",
       "      <td>Hipodromo</td>\n",
       "      <td>6100</td>\n",
       "      <td>19.41375</td>\n",
       "      <td>-99.17028</td>\n",
       "      <td>1810</td>\n",
       "    </tr>\n",
       "  </tbody>\n",
       "</table>\n",
       "</div>"
      ],
      "text/plain": [
       "      id neighbourhood_cleansed neighbourhood zipcode  latitude  longitude  \\\n",
       "0  22787             Cuauhtemoc    San Rafael    6470  19.44076  -99.16324   \n",
       "1  44616             Cuauhtemoc       Condesa    6140  19.41006  -99.17645   \n",
       "2  58955             Cuauhtemoc    Roma Norte    6700  19.42292  -99.15775   \n",
       "3  61792             Cuauhtemoc       Condesa    6140  19.41259  -99.17959   \n",
       "4  67703             Cuauhtemoc     Hipodromo    6100  19.41375  -99.17028   \n",
       "\n",
       "   price  \n",
       "0   1957  \n",
       "1   1906  \n",
       "2   1620  \n",
       "3    953  \n",
       "4   1810  "
      ]
     },
     "execution_count": 5,
     "metadata": {},
     "output_type": "execute_result"
    }
   ],
   "source": [
    "# Remove properties with price per night higher than 37,000\n",
    "airbnb_positive1_df = airbnb_positive_df.loc[airbnb_positive_df[\"price\"]<37000,[\"id\",\"neighbourhood_cleansed\",\n",
    "                                        \"neighbourhood\",\"zipcode\",\"latitude\",\"longitude\",\"price\"]]\n",
    "airbnb_positive1_df.head()"
   ]
  },
  {
   "cell_type": "code",
   "execution_count": 6,
   "metadata": {},
   "outputs": [],
   "source": [
    "#airbnb_positive1_df.count()"
   ]
  },
  {
   "cell_type": "code",
   "execution_count": 7,
   "metadata": {},
   "outputs": [],
   "source": [
    "#Check data types\n",
    "#airbnb_positive1_df.dtypes"
   ]
  },
  {
   "cell_type": "code",
   "execution_count": 8,
   "metadata": {},
   "outputs": [],
   "source": [
    "#Review prices\n",
    "#price = df[\"price\"].unique()\n",
    "#len(price)"
   ]
  },
  {
   "cell_type": "code",
   "execution_count": 9,
   "metadata": {},
   "outputs": [
    {
     "data": {
      "text/html": [
       "<div>\n",
       "<style scoped>\n",
       "    .dataframe tbody tr th:only-of-type {\n",
       "        vertical-align: middle;\n",
       "    }\n",
       "\n",
       "    .dataframe tbody tr th {\n",
       "        vertical-align: top;\n",
       "    }\n",
       "\n",
       "    .dataframe thead th {\n",
       "        text-align: right;\n",
       "    }\n",
       "</style>\n",
       "<table border=\"1\" class=\"dataframe\">\n",
       "  <thead>\n",
       "    <tr style=\"text-align: right;\">\n",
       "      <th></th>\n",
       "      <th></th>\n",
       "      <th>Maximum Price</th>\n",
       "      <th>Minimum Price</th>\n",
       "      <th>Average Price</th>\n",
       "    </tr>\n",
       "    <tr>\n",
       "      <th>neighbourhood_cleansed</th>\n",
       "      <th>neighbourhood</th>\n",
       "      <th></th>\n",
       "      <th></th>\n",
       "      <th></th>\n",
       "    </tr>\n",
       "  </thead>\n",
       "  <tbody>\n",
       "    <tr>\n",
       "      <th rowspan=\"5\" valign=\"top\">Alvaro Obregon</th>\n",
       "      <th>Campestre/Guadalupe Inn</th>\n",
       "      <td>6251</td>\n",
       "      <td>190</td>\n",
       "      <td>955.611111</td>\n",
       "    </tr>\n",
       "    <tr>\n",
       "      <th>Coyoacan</th>\n",
       "      <td>1334</td>\n",
       "      <td>1334</td>\n",
       "      <td>1334.000000</td>\n",
       "    </tr>\n",
       "    <tr>\n",
       "      <th>Florida/Axotla</th>\n",
       "      <td>2280</td>\n",
       "      <td>248</td>\n",
       "      <td>787.392157</td>\n",
       "    </tr>\n",
       "    <tr>\n",
       "      <th>Insurgentes</th>\n",
       "      <td>1296</td>\n",
       "      <td>686</td>\n",
       "      <td>1010.000000</td>\n",
       "    </tr>\n",
       "    <tr>\n",
       "      <th>Nonoalco</th>\n",
       "      <td>1277</td>\n",
       "      <td>191</td>\n",
       "      <td>653.272727</td>\n",
       "    </tr>\n",
       "  </tbody>\n",
       "</table>\n",
       "</div>"
      ],
      "text/plain": [
       "                                                Maximum Price  Minimum Price  \\\n",
       "neighbourhood_cleansed neighbourhood                                           \n",
       "Alvaro Obregon         Campestre/Guadalupe Inn           6251            190   \n",
       "                       Coyoacan                          1334           1334   \n",
       "                       Florida/Axotla                    2280            248   \n",
       "                       Insurgentes                       1296            686   \n",
       "                       Nonoalco                          1277            191   \n",
       "\n",
       "                                                Average Price  \n",
       "neighbourhood_cleansed neighbourhood                           \n",
       "Alvaro Obregon         Campestre/Guadalupe Inn     955.611111  \n",
       "                       Coyoacan                   1334.000000  \n",
       "                       Florida/Axotla              787.392157  \n",
       "                       Insurgentes                1010.000000  \n",
       "                       Nonoalco                    653.272727  "
      ]
     },
     "execution_count": 9,
     "metadata": {},
     "output_type": "execute_result"
    }
   ],
   "source": [
    "#Group County and Neighbourhood\n",
    "county_neig = airbnb_positive1_df.groupby([\"neighbourhood_cleansed\",\"neighbourhood\"])\n",
    "\n",
    "max_price = county_neig['price'].max()\n",
    "min_price = county_neig['price'].min()\n",
    "mean_price = county_neig['price'].mean()\n",
    "\n",
    "#Create a summary data frame to hold the results\n",
    "county_neig_df = pd.DataFrame({\"Maximum Price\":max_price,\n",
    "                                 \"Minimum Price\":min_price,\n",
    "                                 \"Average Price\":mean_price})\n",
    "county_neig_df.head()"
   ]
  },
  {
   "cell_type": "markdown",
   "metadata": {},
   "source": [
    "# Price summary"
   ]
  },
  {
   "cell_type": "code",
   "execution_count": 77,
   "metadata": {},
   "outputs": [
    {
     "data": {
      "text/html": [
       "<div>\n",
       "<style scoped>\n",
       "    .dataframe tbody tr th:only-of-type {\n",
       "        vertical-align: middle;\n",
       "    }\n",
       "\n",
       "    .dataframe tbody tr th {\n",
       "        vertical-align: top;\n",
       "    }\n",
       "\n",
       "    .dataframe thead th {\n",
       "        text-align: right;\n",
       "    }\n",
       "</style>\n",
       "<table border=\"1\" class=\"dataframe\">\n",
       "  <thead>\n",
       "    <tr style=\"text-align: right;\">\n",
       "      <th></th>\n",
       "      <th>Maximum Price</th>\n",
       "      <th>Minimum Price</th>\n",
       "      <th>Average Price</th>\n",
       "      <th>Number of properties</th>\n",
       "    </tr>\n",
       "    <tr>\n",
       "      <th>neighbourhood_cleansed</th>\n",
       "      <th></th>\n",
       "      <th></th>\n",
       "      <th></th>\n",
       "      <th></th>\n",
       "    </tr>\n",
       "  </thead>\n",
       "  <tbody>\n",
       "    <tr>\n",
       "      <th>Iztacalco</th>\n",
       "      <td>$1,296.00</td>\n",
       "      <td>$210.00</td>\n",
       "      <td>$444.31</td>\n",
       "      <td>32</td>\n",
       "    </tr>\n",
       "    <tr>\n",
       "      <th>Azcapotzalco</th>\n",
       "      <td>$1,748.00</td>\n",
       "      <td>$190.00</td>\n",
       "      <td>$651.89</td>\n",
       "      <td>27</td>\n",
       "    </tr>\n",
       "    <tr>\n",
       "      <th>Gustavo A. Madero</th>\n",
       "      <td>$1,824.00</td>\n",
       "      <td>$209.00</td>\n",
       "      <td>$609.58</td>\n",
       "      <td>12</td>\n",
       "    </tr>\n",
       "    <tr>\n",
       "      <th>Iztapalapa</th>\n",
       "      <td>$2,001.00</td>\n",
       "      <td>$229.00</td>\n",
       "      <td>$700.13</td>\n",
       "      <td>15</td>\n",
       "    </tr>\n",
       "    <tr>\n",
       "      <th>Venustiano Carranza</th>\n",
       "      <td>$4,193.00</td>\n",
       "      <td>$191.00</td>\n",
       "      <td>$634.88</td>\n",
       "      <td>24</td>\n",
       "    </tr>\n",
       "    <tr>\n",
       "      <th>Alvaro Obregon</th>\n",
       "      <td>$6,251.00</td>\n",
       "      <td>$172.00</td>\n",
       "      <td>$870.70</td>\n",
       "      <td>264</td>\n",
       "    </tr>\n",
       "    <tr>\n",
       "      <th>Benito Juarez</th>\n",
       "      <td>$23,974.00</td>\n",
       "      <td>$172.00</td>\n",
       "      <td>$706.93</td>\n",
       "      <td>2009</td>\n",
       "    </tr>\n",
       "    <tr>\n",
       "      <th>Coyoacan</th>\n",
       "      <td>$28,586.00</td>\n",
       "      <td>$172.00</td>\n",
       "      <td>$892.86</td>\n",
       "      <td>748</td>\n",
       "    </tr>\n",
       "    <tr>\n",
       "      <th>Miguel Hidalgo</th>\n",
       "      <td>$34,303.00</td>\n",
       "      <td>$191.00</td>\n",
       "      <td>$1,466.39</td>\n",
       "      <td>1881</td>\n",
       "    </tr>\n",
       "    <tr>\n",
       "      <th>Cuauhtemoc</th>\n",
       "      <td>$36,484.00</td>\n",
       "      <td>$172.00</td>\n",
       "      <td>$1,188.15</td>\n",
       "      <td>5674</td>\n",
       "    </tr>\n",
       "  </tbody>\n",
       "</table>\n",
       "</div>"
      ],
      "text/plain": [
       "                       Maximum Price Minimum Price Average Price  \\\n",
       "neighbourhood_cleansed                                             \n",
       "Iztacalco                  $1,296.00       $210.00       $444.31   \n",
       "Azcapotzalco               $1,748.00       $190.00       $651.89   \n",
       "Gustavo A. Madero          $1,824.00       $209.00       $609.58   \n",
       "Iztapalapa                 $2,001.00       $229.00       $700.13   \n",
       "Venustiano Carranza        $4,193.00       $191.00       $634.88   \n",
       "Alvaro Obregon             $6,251.00       $172.00       $870.70   \n",
       "Benito Juarez             $23,974.00       $172.00       $706.93   \n",
       "Coyoacan                  $28,586.00       $172.00       $892.86   \n",
       "Miguel Hidalgo            $34,303.00       $191.00     $1,466.39   \n",
       "Cuauhtemoc                $36,484.00       $172.00     $1,188.15   \n",
       "\n",
       "                        Number of properties  \n",
       "neighbourhood_cleansed                        \n",
       "Iztacalco                                 32  \n",
       "Azcapotzalco                              27  \n",
       "Gustavo A. Madero                         12  \n",
       "Iztapalapa                                15  \n",
       "Venustiano Carranza                       24  \n",
       "Alvaro Obregon                           264  \n",
       "Benito Juarez                           2009  \n",
       "Coyoacan                                 748  \n",
       "Miguel Hidalgo                          1881  \n",
       "Cuauhtemoc                              5674  "
      ]
     },
     "execution_count": 77,
     "metadata": {},
     "output_type": "execute_result"
    }
   ],
   "source": [
    "#Group by County (descending price)\n",
    "county = airbnb_positive1_df.groupby([\"neighbourhood_cleansed\"])\n",
    "\n",
    "max_price = county['price'].max()\n",
    "min_price = county['price'].min()\n",
    "mean_price = county['price'].mean()\n",
    "county_properties = county['neighbourhood_cleansed'].count()\n",
    "\n",
    "#Create a summary data frame to hold the results\n",
    "county_df = pd.DataFrame({\"Maximum Price\":max_price,\n",
    "                          \"Minimum Price\":min_price,\n",
    "                          \"Average Price\":mean_price,\n",
    "                          \"Number of properties\":county_properties})\n",
    "\n",
    "descending_county_df = county_df.sort_values(\"Maximum Price\", ascending = True)\n",
    "\n",
    "descending_county_df[\"Maximum Price\"] = descending_county_df[\"Maximum Price\"].map(\"${:,.2f}\".format)\n",
    "descending_county_df[\"Minimum Price\"] = descending_county_df[\"Minimum Price\"].map(\"${:,.2f}\".format)\n",
    "descending_county_df[\"Average Price\"] = descending_county_df[\"Average Price\"].map(\"${:,.2f}\".format)\n",
    "descending_county_df"
   ]
  },
  {
   "cell_type": "code",
   "execution_count": 11,
   "metadata": {},
   "outputs": [
    {
     "data": {
      "text/html": [
       "<div>\n",
       "<style scoped>\n",
       "    .dataframe tbody tr th:only-of-type {\n",
       "        vertical-align: middle;\n",
       "    }\n",
       "\n",
       "    .dataframe tbody tr th {\n",
       "        vertical-align: top;\n",
       "    }\n",
       "\n",
       "    .dataframe thead th {\n",
       "        text-align: right;\n",
       "    }\n",
       "</style>\n",
       "<table border=\"1\" class=\"dataframe\">\n",
       "  <thead>\n",
       "    <tr style=\"text-align: right;\">\n",
       "      <th></th>\n",
       "      <th>Maximum Price</th>\n",
       "      <th>Minimum Price</th>\n",
       "      <th>Average Price</th>\n",
       "      <th>Number of properties</th>\n",
       "    </tr>\n",
       "    <tr>\n",
       "      <th>neighbourhood_cleansed</th>\n",
       "      <th></th>\n",
       "      <th></th>\n",
       "      <th></th>\n",
       "      <th></th>\n",
       "    </tr>\n",
       "  </thead>\n",
       "  <tbody>\n",
       "    <tr>\n",
       "      <th>Alvaro Obregon</th>\n",
       "      <td>6251</td>\n",
       "      <td>172</td>\n",
       "      <td>870.700758</td>\n",
       "      <td>264</td>\n",
       "    </tr>\n",
       "    <tr>\n",
       "      <th>Azcapotzalco</th>\n",
       "      <td>1748</td>\n",
       "      <td>190</td>\n",
       "      <td>651.888889</td>\n",
       "      <td>27</td>\n",
       "    </tr>\n",
       "    <tr>\n",
       "      <th>Benito Juarez</th>\n",
       "      <td>23974</td>\n",
       "      <td>172</td>\n",
       "      <td>706.930314</td>\n",
       "      <td>2009</td>\n",
       "    </tr>\n",
       "    <tr>\n",
       "      <th>Coyoacan</th>\n",
       "      <td>28586</td>\n",
       "      <td>172</td>\n",
       "      <td>892.862299</td>\n",
       "      <td>748</td>\n",
       "    </tr>\n",
       "    <tr>\n",
       "      <th>Cuauhtemoc</th>\n",
       "      <td>36484</td>\n",
       "      <td>172</td>\n",
       "      <td>1188.152450</td>\n",
       "      <td>5674</td>\n",
       "    </tr>\n",
       "  </tbody>\n",
       "</table>\n",
       "</div>"
      ],
      "text/plain": [
       "                        Maximum Price  Minimum Price  Average Price  \\\n",
       "neighbourhood_cleansed                                                \n",
       "Alvaro Obregon                   6251            172     870.700758   \n",
       "Azcapotzalco                     1748            190     651.888889   \n",
       "Benito Juarez                   23974            172     706.930314   \n",
       "Coyoacan                        28586            172     892.862299   \n",
       "Cuauhtemoc                      36484            172    1188.152450   \n",
       "\n",
       "                        Number of properties  \n",
       "neighbourhood_cleansed                        \n",
       "Alvaro Obregon                           264  \n",
       "Azcapotzalco                              27  \n",
       "Benito Juarez                           2009  \n",
       "Coyoacan                                 748  \n",
       "Cuauhtemoc                              5674  "
      ]
     },
     "execution_count": 11,
     "metadata": {},
     "output_type": "execute_result"
    }
   ],
   "source": [
    "#Group by County\n",
    "county1 = airbnb_positive1_df.groupby([\"neighbourhood_cleansed\"])\n",
    "\n",
    "max_price = county1['price'].max()\n",
    "min_price = county1['price'].min()\n",
    "mean_price = county1['price'].mean()\n",
    "county_properties = county1['neighbourhood_cleansed'].count()\n",
    "\n",
    "#Create a summary data frame to hold the results\n",
    "county1_df = pd.DataFrame({\"Maximum Price\":max_price,\n",
    "                          \"Minimum Price\":min_price,\n",
    "                          \"Average Price\":mean_price,\n",
    "                          \"Number of properties\":county_properties})\n",
    "\n",
    "county1_df.head()"
   ]
  },
  {
   "cell_type": "code",
   "execution_count": 12,
   "metadata": {},
   "outputs": [
    {
     "data": {
      "text/html": [
       "<div>\n",
       "<style scoped>\n",
       "    .dataframe tbody tr th:only-of-type {\n",
       "        vertical-align: middle;\n",
       "    }\n",
       "\n",
       "    .dataframe tbody tr th {\n",
       "        vertical-align: top;\n",
       "    }\n",
       "\n",
       "    .dataframe thead th {\n",
       "        text-align: right;\n",
       "    }\n",
       "</style>\n",
       "<table border=\"1\" class=\"dataframe\">\n",
       "  <thead>\n",
       "    <tr style=\"text-align: right;\">\n",
       "      <th></th>\n",
       "      <th>Maximum Price</th>\n",
       "      <th>Minimum Price</th>\n",
       "      <th>Average Price</th>\n",
       "      <th>Number of properties</th>\n",
       "      <th>neighbourhood_cleansed</th>\n",
       "    </tr>\n",
       "    <tr>\n",
       "      <th>neighbourhood_cleansed</th>\n",
       "      <th></th>\n",
       "      <th></th>\n",
       "      <th></th>\n",
       "      <th></th>\n",
       "      <th></th>\n",
       "    </tr>\n",
       "  </thead>\n",
       "  <tbody>\n",
       "    <tr>\n",
       "      <th>Alvaro Obregon</th>\n",
       "      <td>6251</td>\n",
       "      <td>172</td>\n",
       "      <td>870.700758</td>\n",
       "      <td>264</td>\n",
       "      <td>Alvaro Obregon</td>\n",
       "    </tr>\n",
       "    <tr>\n",
       "      <th>Azcapotzalco</th>\n",
       "      <td>1748</td>\n",
       "      <td>190</td>\n",
       "      <td>651.888889</td>\n",
       "      <td>27</td>\n",
       "      <td>Azcapotzalco</td>\n",
       "    </tr>\n",
       "    <tr>\n",
       "      <th>Benito Juarez</th>\n",
       "      <td>23974</td>\n",
       "      <td>172</td>\n",
       "      <td>706.930314</td>\n",
       "      <td>2009</td>\n",
       "      <td>Benito Juarez</td>\n",
       "    </tr>\n",
       "    <tr>\n",
       "      <th>Coyoacan</th>\n",
       "      <td>28586</td>\n",
       "      <td>172</td>\n",
       "      <td>892.862299</td>\n",
       "      <td>748</td>\n",
       "      <td>Coyoacan</td>\n",
       "    </tr>\n",
       "    <tr>\n",
       "      <th>Cuauhtemoc</th>\n",
       "      <td>36484</td>\n",
       "      <td>172</td>\n",
       "      <td>1188.152450</td>\n",
       "      <td>5674</td>\n",
       "      <td>Cuauhtemoc</td>\n",
       "    </tr>\n",
       "  </tbody>\n",
       "</table>\n",
       "</div>"
      ],
      "text/plain": [
       "                        Maximum Price  Minimum Price  Average Price  \\\n",
       "neighbourhood_cleansed                                                \n",
       "Alvaro Obregon                   6251            172     870.700758   \n",
       "Azcapotzalco                     1748            190     651.888889   \n",
       "Benito Juarez                   23974            172     706.930314   \n",
       "Coyoacan                        28586            172     892.862299   \n",
       "Cuauhtemoc                      36484            172    1188.152450   \n",
       "\n",
       "                        Number of properties neighbourhood_cleansed  \n",
       "neighbourhood_cleansed                                               \n",
       "Alvaro Obregon                           264         Alvaro Obregon  \n",
       "Azcapotzalco                              27           Azcapotzalco  \n",
       "Benito Juarez                           2009          Benito Juarez  \n",
       "Coyoacan                                 748               Coyoacan  \n",
       "Cuauhtemoc                              5674             Cuauhtemoc  "
      ]
     },
     "execution_count": 12,
     "metadata": {},
     "output_type": "execute_result"
    }
   ],
   "source": [
    "# index to column\n",
    "county1_df['neighbourhood_cleansed'] = county1_df.index\n",
    "county1_df.head()"
   ]
  },
  {
   "cell_type": "code",
   "execution_count": 13,
   "metadata": {},
   "outputs": [
    {
     "data": {
      "text/plain": [
       "['Alvaro Obregon',\n",
       " 'Azcapotzalco',\n",
       " 'Benito Juarez',\n",
       " 'Coyoacan',\n",
       " 'Cuauhtemoc',\n",
       " 'Gustavo A. Madero',\n",
       " 'Iztacalco',\n",
       " 'Iztapalapa',\n",
       " 'Miguel Hidalgo',\n",
       " 'Venustiano Carranza']"
      ]
     },
     "execution_count": 13,
     "metadata": {},
     "output_type": "execute_result"
    }
   ],
   "source": [
    "# neighbourhood\n",
    "result_county = county1_df[\"neighbourhood_cleansed\"].tolist()\n",
    "result_county"
   ]
  },
  {
   "cell_type": "code",
   "execution_count": 14,
   "metadata": {},
   "outputs": [
    {
     "data": {
      "text/plain": [
       "[6251, 1748, 23974, 28586, 36484, 1824, 1296, 2001, 34303, 4193]"
      ]
     },
     "execution_count": 14,
     "metadata": {},
     "output_type": "execute_result"
    }
   ],
   "source": [
    "# maximum price to list\n",
    "max_price = county1_df[\"Maximum Price\"].tolist()\n",
    "max_price"
   ]
  },
  {
   "cell_type": "code",
   "execution_count": 15,
   "metadata": {},
   "outputs": [
    {
     "data": {
      "text/plain": [
       "[172, 190, 172, 172, 172, 209, 210, 229, 191, 191]"
      ]
     },
     "execution_count": 15,
     "metadata": {},
     "output_type": "execute_result"
    }
   ],
   "source": [
    "# minimum price to list\n",
    "min_price = county1_df[\"Minimum Price\"].tolist()\n",
    "min_price"
   ]
  },
  {
   "cell_type": "code",
   "execution_count": 16,
   "metadata": {},
   "outputs": [
    {
     "data": {
      "text/plain": [
       "[870.7007575757576,\n",
       " 651.8888888888889,\n",
       " 706.9303135888501,\n",
       " 892.8622994652407,\n",
       " 1188.1524497708847,\n",
       " 609.5833333333334,\n",
       " 444.3125,\n",
       " 700.1333333333333,\n",
       " 1466.3923444976076,\n",
       " 634.875]"
      ]
     },
     "execution_count": 16,
     "metadata": {},
     "output_type": "execute_result"
    }
   ],
   "source": [
    "# average price to list\n",
    "avg_price = county1_df[\"Average Price\"].tolist()\n",
    "avg_price"
   ]
  },
  {
   "cell_type": "markdown",
   "metadata": {},
   "source": [
    "## Bar chart"
   ]
  },
  {
   "cell_type": "code",
   "execution_count": 17,
   "metadata": {},
   "outputs": [],
   "source": [
    "final_county = result_county\n",
    "x_axis = np.arange(len(final_county))"
   ]
  },
  {
   "cell_type": "code",
   "execution_count": 60,
   "metadata": {},
   "outputs": [
    {
     "data": {
      "text/plain": [
       "<function matplotlib.pyplot.show(*args, **kw)>"
      ]
     },
     "execution_count": 60,
     "metadata": {},
     "output_type": "execute_result"
    },
    {
     "data": {
      "image/png": "[encoded data removed]",
      "text/plain": [
       "<Figure size 432x288 with 1 Axes>"
      ]
     },
     "metadata": {
      "needs_background": "light"
     },
     "output_type": "display_data"
    }
   ],
   "source": [
    "#plt.bar(x_axis, min_price, color='b', alpha=0.5, align=\"center\")\n",
    "#plt.bar(x_axis, max_price, color='r', alpha=0.5, align=\"center\")\n",
    "plt.bar(x_axis, avg_price, color='g', alpha=0.5, align=\"center\")\n",
    "tick_locations = [value for value in x_axis]\n",
    "plt.xticks(tick_locations, result_county, rotation='vertical')\n",
    "plt.title(\"County vs Average Price\")\n",
    "plt.xlabel(\"County\")\n",
    "plt.ylabel(\"Average Price ($)\")\n",
    "plt.show"
   ]
  },
  {
   "cell_type": "code",
   "execution_count": 61,
   "metadata": {},
   "outputs": [
    {
     "data": {
      "text/plain": [
       "<function matplotlib.pyplot.show(*args, **kw)>"
      ]
     },
     "execution_count": 61,
     "metadata": {},
     "output_type": "execute_result"
    },
    {
     "data": {
      "image/png": "[encoded data removed]",
      "text/plain": [
       "<Figure size 432x288 with 1 Axes>"
      ]
     },
     "metadata": {
      "needs_background": "light"
     },
     "output_type": "display_data"
    }
   ],
   "source": [
    "#plt.bar(x_axis, min_price, color='b', alpha=0.5, align=\"center\")\n",
    "plt.bar(x_axis, max_price, color='r', alpha=0.5, align=\"center\")\n",
    "#plt.bar(x_axis, avg_price, color='g', alpha=0.5, align=\"center\")\n",
    "tick_locations = [value for value in x_axis]\n",
    "plt.xticks(tick_locations, result_county, rotation='vertical')\n",
    "plt.title(\"County vs Maximum Price\")\n",
    "plt.xlabel(\"County\")\n",
    "plt.ylabel(\"Maximum Price ($)\")\n",
    "plt.show"
   ]
  },
  {
   "cell_type": "markdown",
   "metadata": {},
   "source": [
    "# Scatter chart"
   ]
  },
  {
   "cell_type": "code",
   "execution_count": null,
   "metadata": {},
   "outputs": [],
   "source": [
    "#plt.bar(x_axis, min_price, color='b', alpha=0.5, align=\"center\")\n",
    "plt.bar(x_axis, max_price, color='r', alpha=0.5, align=\"center\")\n",
    "#plt.bar(x_axis, avg_price, color='g', alpha=0.5, align=\"center\")"
   ]
  },
  {
   "cell_type": "code",
   "execution_count": 70,
   "metadata": {},
   "outputs": [
    {
     "data": {
      "text/plain": [
       "<function matplotlib.pyplot.show(*args, **kw)>"
      ]
     },
     "execution_count": 70,
     "metadata": {},
     "output_type": "execute_result"
    },
    {
     "data": {
      "image/png": "[encoded data removed]",
      "text/plain": [
       "<Figure size 432x288 with 1 Axes>"
      ]
     },
     "metadata": {
      "needs_background": "light"
     },
     "output_type": "display_data"
    }
   ],
   "source": [
    "plt.scatter(result_county, max_price, marker=\"o\", facecolors=\"gold\", edgecolors=\"black\",\n",
    "            s=x_axis, alpha=1)\n",
    "plt.title(\"County vs Max Price\")\n",
    "plt.xlabel(\"County\")\n",
    "plt.ylabel(\"Maximum Price ($)\")\n",
    "plt.xticks(tick_locations, result_county, rotation='vertical')\n",
    "plt.grid()\n",
    "plt.show"
   ]
  },
  {
   "cell_type": "markdown",
   "metadata": {},
   "source": [
    "# p-value"
   ]
  },
  {
   "cell_type": "code",
   "execution_count": 51,
   "metadata": {},
   "outputs": [],
   "source": [
    "import scipy.stats as stats\n",
    "import warnings\n",
    "warnings.filterwarnings('ignore')"
   ]
  },
  {
   "cell_type": "code",
   "execution_count": 52,
   "metadata": {},
   "outputs": [
    {
     "data": {
      "text/html": [
       "<div>\n",
       "<style scoped>\n",
       "    .dataframe tbody tr th:only-of-type {\n",
       "        vertical-align: middle;\n",
       "    }\n",
       "\n",
       "    .dataframe tbody tr th {\n",
       "        vertical-align: top;\n",
       "    }\n",
       "\n",
       "    .dataframe thead th {\n",
       "        text-align: right;\n",
       "    }\n",
       "</style>\n",
       "<table border=\"1\" class=\"dataframe\">\n",
       "  <thead>\n",
       "    <tr style=\"text-align: right;\">\n",
       "      <th></th>\n",
       "      <th>Average</th>\n",
       "    </tr>\n",
       "    <tr>\n",
       "      <th>neighbourhood_cleansed</th>\n",
       "      <th></th>\n",
       "    </tr>\n",
       "  </thead>\n",
       "  <tbody>\n",
       "    <tr>\n",
       "      <th>Alvaro Obregon</th>\n",
       "      <td>870.700758</td>\n",
       "    </tr>\n",
       "    <tr>\n",
       "      <th>Azcapotzalco</th>\n",
       "      <td>651.888889</td>\n",
       "    </tr>\n",
       "    <tr>\n",
       "      <th>Benito Juarez</th>\n",
       "      <td>706.930314</td>\n",
       "    </tr>\n",
       "    <tr>\n",
       "      <th>Coyoacan</th>\n",
       "      <td>892.862299</td>\n",
       "    </tr>\n",
       "    <tr>\n",
       "      <th>Cuauhtemoc</th>\n",
       "      <td>1188.152450</td>\n",
       "    </tr>\n",
       "  </tbody>\n",
       "</table>\n",
       "</div>"
      ],
      "text/plain": [
       "                            Average\n",
       "neighbourhood_cleansed             \n",
       "Alvaro Obregon           870.700758\n",
       "Azcapotzalco             651.888889\n",
       "Benito Juarez            706.930314\n",
       "Coyoacan                 892.862299\n",
       "Cuauhtemoc              1188.152450"
      ]
     },
     "execution_count": 52,
     "metadata": {},
     "output_type": "execute_result"
    }
   ],
   "source": [
    "#Group by County\n",
    "county12 = airbnb_positive1_df.groupby([\"neighbourhood_cleansed\"])\n",
    "\n",
    "mean_price = county12['price'].mean()\n",
    "\n",
    "#Create a summary data frame to hold the results\n",
    "county12_df = pd.DataFrame({\"Average\":mean_price})\n",
    "county12_df.head()"
   ]
  },
  {
   "cell_type": "code",
   "execution_count": 53,
   "metadata": {},
   "outputs": [],
   "source": [
    "#county12_df['neighbourhood_cleansed'] = county12_df.index\n",
    "#county12_df.head()"
   ]
  },
  {
   "cell_type": "code",
   "execution_count": 54,
   "metadata": {},
   "outputs": [
    {
     "data": {
      "text/html": [
       "<div>\n",
       "<style scoped>\n",
       "    .dataframe tbody tr th:only-of-type {\n",
       "        vertical-align: middle;\n",
       "    }\n",
       "\n",
       "    .dataframe tbody tr th {\n",
       "        vertical-align: top;\n",
       "    }\n",
       "\n",
       "    .dataframe thead th {\n",
       "        text-align: right;\n",
       "    }\n",
       "</style>\n",
       "<table border=\"1\" class=\"dataframe\">\n",
       "  <thead>\n",
       "    <tr style=\"text-align: right;\">\n",
       "      <th></th>\n",
       "      <th>Average</th>\n",
       "      <th>index1</th>\n",
       "    </tr>\n",
       "    <tr>\n",
       "      <th>neighbourhood_cleansed</th>\n",
       "      <th></th>\n",
       "      <th></th>\n",
       "    </tr>\n",
       "  </thead>\n",
       "  <tbody>\n",
       "    <tr>\n",
       "      <th>Alvaro Obregon</th>\n",
       "      <td>870.700758</td>\n",
       "      <td>1</td>\n",
       "    </tr>\n",
       "    <tr>\n",
       "      <th>Azcapotzalco</th>\n",
       "      <td>651.888889</td>\n",
       "      <td>2</td>\n",
       "    </tr>\n",
       "    <tr>\n",
       "      <th>Benito Juarez</th>\n",
       "      <td>706.930314</td>\n",
       "      <td>3</td>\n",
       "    </tr>\n",
       "    <tr>\n",
       "      <th>Coyoacan</th>\n",
       "      <td>892.862299</td>\n",
       "      <td>4</td>\n",
       "    </tr>\n",
       "    <tr>\n",
       "      <th>Cuauhtemoc</th>\n",
       "      <td>1188.152450</td>\n",
       "      <td>5</td>\n",
       "    </tr>\n",
       "    <tr>\n",
       "      <th>Gustavo A. Madero</th>\n",
       "      <td>609.583333</td>\n",
       "      <td>6</td>\n",
       "    </tr>\n",
       "    <tr>\n",
       "      <th>Iztacalco</th>\n",
       "      <td>444.312500</td>\n",
       "      <td>7</td>\n",
       "    </tr>\n",
       "    <tr>\n",
       "      <th>Iztapalapa</th>\n",
       "      <td>700.133333</td>\n",
       "      <td>8</td>\n",
       "    </tr>\n",
       "    <tr>\n",
       "      <th>Miguel Hidalgo</th>\n",
       "      <td>1466.392344</td>\n",
       "      <td>9</td>\n",
       "    </tr>\n",
       "    <tr>\n",
       "      <th>Venustiano Carranza</th>\n",
       "      <td>634.875000</td>\n",
       "      <td>10</td>\n",
       "    </tr>\n",
       "  </tbody>\n",
       "</table>\n",
       "</div>"
      ],
      "text/plain": [
       "                            Average index1\n",
       "neighbourhood_cleansed                    \n",
       "Alvaro Obregon           870.700758      1\n",
       "Azcapotzalco             651.888889      2\n",
       "Benito Juarez            706.930314      3\n",
       "Coyoacan                 892.862299      4\n",
       "Cuauhtemoc              1188.152450      5\n",
       "Gustavo A. Madero        609.583333      6\n",
       "Iztacalco                444.312500      7\n",
       "Iztapalapa               700.133333      8\n",
       "Miguel Hidalgo          1466.392344      9\n",
       "Venustiano Carranza      634.875000     10"
      ]
     },
     "execution_count": 54,
     "metadata": {},
     "output_type": "execute_result"
    }
   ],
   "source": [
    "df2 = county12_df.assign(index1 = ['1', '2', '3', '4','5', '6', '7', '8','9','10'])\n",
    "#df2['neighbourhood'].astype(str).astype(int)\n",
    "\n",
    "df2"
   ]
  },
  {
   "cell_type": "code",
   "execution_count": 72,
   "metadata": {},
   "outputs": [
    {
     "data": {
      "text/html": [
       "<div>\n",
       "<style scoped>\n",
       "    .dataframe tbody tr th:only-of-type {\n",
       "        vertical-align: middle;\n",
       "    }\n",
       "\n",
       "    .dataframe tbody tr th {\n",
       "        vertical-align: top;\n",
       "    }\n",
       "\n",
       "    .dataframe thead th {\n",
       "        text-align: right;\n",
       "    }\n",
       "</style>\n",
       "<table border=\"1\" class=\"dataframe\">\n",
       "  <thead>\n",
       "    <tr style=\"text-align: right;\">\n",
       "      <th></th>\n",
       "      <th>Average</th>\n",
       "      <th>index1</th>\n",
       "    </tr>\n",
       "    <tr>\n",
       "      <th>neighbourhood_cleansed</th>\n",
       "      <th></th>\n",
       "      <th></th>\n",
       "    </tr>\n",
       "  </thead>\n",
       "  <tbody>\n",
       "    <tr>\n",
       "      <th>Alvaro Obregon</th>\n",
       "      <td>870.700758</td>\n",
       "      <td>1</td>\n",
       "    </tr>\n",
       "    <tr>\n",
       "      <th>Azcapotzalco</th>\n",
       "      <td>651.888889</td>\n",
       "      <td>2</td>\n",
       "    </tr>\n",
       "    <tr>\n",
       "      <th>Benito Juarez</th>\n",
       "      <td>706.930314</td>\n",
       "      <td>3</td>\n",
       "    </tr>\n",
       "    <tr>\n",
       "      <th>Coyoacan</th>\n",
       "      <td>892.862299</td>\n",
       "      <td>4</td>\n",
       "    </tr>\n",
       "    <tr>\n",
       "      <th>Cuauhtemoc</th>\n",
       "      <td>1188.152450</td>\n",
       "      <td>5</td>\n",
       "    </tr>\n",
       "    <tr>\n",
       "      <th>Gustavo A. Madero</th>\n",
       "      <td>609.583333</td>\n",
       "      <td>6</td>\n",
       "    </tr>\n",
       "    <tr>\n",
       "      <th>Iztacalco</th>\n",
       "      <td>444.312500</td>\n",
       "      <td>7</td>\n",
       "    </tr>\n",
       "    <tr>\n",
       "      <th>Iztapalapa</th>\n",
       "      <td>700.133333</td>\n",
       "      <td>8</td>\n",
       "    </tr>\n",
       "    <tr>\n",
       "      <th>Miguel Hidalgo</th>\n",
       "      <td>1466.392344</td>\n",
       "      <td>9</td>\n",
       "    </tr>\n",
       "    <tr>\n",
       "      <th>Venustiano Carranza</th>\n",
       "      <td>634.875000</td>\n",
       "      <td>10</td>\n",
       "    </tr>\n",
       "  </tbody>\n",
       "</table>\n",
       "</div>"
      ],
      "text/plain": [
       "                            Average  index1\n",
       "neighbourhood_cleansed                     \n",
       "Alvaro Obregon           870.700758       1\n",
       "Azcapotzalco             651.888889       2\n",
       "Benito Juarez            706.930314       3\n",
       "Coyoacan                 892.862299       4\n",
       "Cuauhtemoc              1188.152450       5\n",
       "Gustavo A. Madero        609.583333       6\n",
       "Iztacalco                444.312500       7\n",
       "Iztapalapa               700.133333       8\n",
       "Miguel Hidalgo          1466.392344       9\n",
       "Venustiano Carranza      634.875000      10"
      ]
     },
     "execution_count": 72,
     "metadata": {},
     "output_type": "execute_result"
    }
   ],
   "source": [
    "df2[\"index1\"] = df2[\"index1\"].astype(int)\n",
    "df2"
   ]
  },
  {
   "cell_type": "code",
   "execution_count": 73,
   "metadata": {},
   "outputs": [
    {
     "data": {
      "text/plain": [
       "Average    float64\n",
       "index1       int64\n",
       "dtype: object"
      ]
     },
     "execution_count": 73,
     "metadata": {},
     "output_type": "execute_result"
    }
   ],
   "source": [
    "df2.dtypes"
   ]
  },
  {
   "cell_type": "code",
   "execution_count": 74,
   "metadata": {
    "scrolled": true
   },
   "outputs": [
    {
     "data": {
      "text/plain": [
       "<matplotlib.axes._subplots.AxesSubplot at 0x1a1c1e60b8>"
      ]
     },
     "execution_count": 74,
     "metadata": {},
     "output_type": "execute_result"
    },
    {
     "data": {
      "image/png": "[encoded data removed]",
      "text/plain": [
       "<Figure size 1440x720 with 1 Axes>"
      ]
     },
     "metadata": {
      "needs_background": "light"
     },
     "output_type": "display_data"
    }
   ],
   "source": [
    "# Create a boxplot to compare means\n",
    "df2.boxplot(\"Average\", by=\"index1\", figsize=(20, 10))"
   ]
  },
  {
   "cell_type": "code",
   "execution_count": 75,
   "metadata": {},
   "outputs": [],
   "source": [
    "# Extract individual groups\n",
    "group1 = df2[df2[\"index1\"] == 1][\"Average\"]\n",
    "group2 = df2[df2[\"index1\"] == 2][\"Average\"]\n",
    "group3 = df2[df2[\"index1\"] == 3][\"Average\"]\n",
    "group4 = df2[df2[\"index1\"] == 4][\"Average\"]\n",
    "group5 = df2[df2[\"index1\"] == 5][\"Average\"]\n",
    "group6 = df2[df2[\"index1\"] == 6][\"Average\"]\n",
    "group7 = df2[df2[\"index1\"] == 7][\"Average\"]\n",
    "group8 = df2[df2[\"index1\"] == 8][\"Average\"]\n",
    "group9 = df2[df2[\"index1\"] == 9][\"Average\"]\n",
    "group10 = df2[df2[\"index1\"] == 10][\"Average\"]"
   ]
  },
  {
   "cell_type": "code",
   "execution_count": 76,
   "metadata": {},
   "outputs": [
    {
     "data": {
      "text/plain": [
       "F_onewayResult(statistic=nan, pvalue=nan)"
      ]
     },
     "execution_count": 76,
     "metadata": {},
     "output_type": "execute_result"
    }
   ],
   "source": [
    "# Perform the ANOVA\n",
    "stats.f_oneway(group1, group2, group3, group4, group5, group6, group7, group8, group9, group10)"
   ]
  }
 ],
 "metadata": {
  "kernelspec": {
   "display_name": "Python 3",
   "language": "python",
   "name": "python3"
  },
  "language_info": {
   "codemirror_mode": {
    "name": "ipython",
    "version": 3
   },
   "file_extension": ".py",
   "mimetype": "text/x-python",
   "name": "python",
   "nbconvert_exporter": "python",
   "pygments_lexer": "ipython3",
   "version": "3.7.3"
  }
 },
 "nbformat": 4,
 "nbformat_minor": 2
}
